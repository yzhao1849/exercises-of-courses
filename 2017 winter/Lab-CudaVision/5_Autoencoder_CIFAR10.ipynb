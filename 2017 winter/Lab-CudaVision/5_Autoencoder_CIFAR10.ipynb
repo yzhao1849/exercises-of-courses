{
 "cells": [
  {
   "cell_type": "markdown",
   "metadata": {},
   "source": [
    "When training autoencoder on CIFAR10 data, if using batch size is 100 results in \"out of memory error\", so I used a smaller size--25 as batch size.\n",
    "- Training autoencoder\n",
    " - The model structure is adapted from the tutorial, and because it already shows good denoising performance so I didn't change it\n",
    " - I used Adam as optimizer\n",
    " - Adjusting learning rate of Adam among: 0.001(default), 0.01, 0.0005: The training loss of the last epoch are \n",
    " 0.00219, 0.00352, 0.00252, so I save the resulting model of learning_rate=0.001 as \"deno_autoencoder_CIFAR10_final.pkl\"\n",
    "\n",
    "\n",
    "- Concat FC to saved encoder and train it for CIFAR10 classification task\n",
    " - I use 5 layer FC, each hidden layer contains 1000 neurons, in each layer batch normalization is applied (BatchNorm1d)\n",
    " - For optimizer, I tried: (epoch=15, batch_size=25)\n",
    "   - Adam with lr=0.001(default) (best epoch average test accuracy: 54.81%)\n",
    "   - Adam with lr=0.002 (best epoch average test accuracy: 58.84%)\n",
    "   - Adam with lr=0.005 (best epoch average test accuracy: 48.32%)\n",
    "   - Adadelta with lr=1.0(default) (best epoch average test accuracy: 52.29%)\n",
    " - So I saved the parameters of the model trained with Adam(lr=0.002) as \"deno_autoencoder_fc_best\"\n",
    "\n",
    "\n",
    "- For the soccer dataset (For more details please see 5_Autoencoder_soccer_images.ipynb)\n",
    " - I used additive Gaussian noise to make the original image noisy\n",
    " - If I set the number of model parameters proportional to that used for CIFAR (for example use 224 instead of 32 filters in the first layer of encoder), then the model is too big and I run into \"out of memory\" error\n",
    " - So I tried the 3 different smaller sized encoders (small, middle, big, and corresponding decoders. Details in 5_Autoencoder_soccer_images.ipynb), and it turns out if I use the Adam and the same default learning rate 0.001, then the training loss of these models are relatively similar to each other (all 3 seem to converge, and lowest epoch average test MSEloss: 1.154 for middle model, 1.146 for small model, 1.166 for big model), although it takes much longer to train the big model\n",
    " - So I saved the trained small model as /model/deno_autoencoder_soccer_small.pkl, and use the encoder part to concat with FC and train for classification of soccer/no_soccer\n",
    " - But when I try to train the model for classification, it always results in \"out of memory\" error, and I couldn't find out the reason, so I couldn't proceed\n",
    " - Compared to well reconstructed images of CIFAR10, the reconstructed image for the soccer images resembles much less to the orginal image, but rather simple and abstract with details lost:\n",
    " - Example: <img src=\"orginal.png\"><img src=\"input_noisy.png\"><img src=\"reconstructed_output.png\">\n",
    "\n"
   ]
  },
  {
   "cell_type": "code",
   "execution_count": 20,
   "metadata": {
    "collapsed": true
   },
   "outputs": [],
   "source": [
    "# Simple Convolutional Autoencoder\n",
    "# Code adapted from GunhoChoi\n",
    "\n",
    "import torch\n",
    "import torch.nn as nn\n",
    "import torch.utils as utils\n",
    "from torch.autograd import Variable\n",
    "import torchvision.datasets as dset\n",
    "import torchvision.transforms as transforms\n",
    "import matplotlib.pyplot as plt\n",
    "import os\n",
    "import time\n",
    "import numpy as np\n",
    "CUDA = torch.cuda.is_available()\n",
    "\n",
    "%matplotlib inline"
   ]
  },
  {
   "cell_type": "markdown",
   "metadata": {},
   "source": [
    "# Set Hyperparameters and load data"
   ]
  },
  {
   "cell_type": "code",
   "execution_count": 45,
   "metadata": {},
   "outputs": [
    {
     "name": "stdout",
     "output_type": "stream",
     "text": [
      "Files already downloaded and verified\n",
      "Files already downloaded and verified\n"
     ]
    }
   ],
   "source": [
    "epoch = 10\n",
    "batch_size = 25 # 100 will result in \"out of memory\" error\n",
    "learning_rate = 0.001 # for training autoencoder\n",
    "\n",
    "num_neuron_layer=1000 # number of neurons in each fully connected layer\n",
    "learning_rate_2 = 0.002 # for training FC\n",
    "momentum=0.9 # for training FC\n",
    "\n",
    "# Download Data\n",
    "\n",
    "cifar_train = dset.CIFAR10(\"./\", train=True, transform=transforms.ToTensor(), target_transform=None, download=True)\n",
    "cifar_test  = dset.CIFAR10(\"./\", train=False, transform=transforms.ToTensor(), target_transform=None, download=True)\n",
    "\n",
    "# Set Data Loader(input pipeline)\n",
    "\n",
    "train_loader = torch.utils.data.DataLoader(dataset=cifar_train,batch_size=batch_size,shuffle=True)\n",
    "test_loader = torch.utils.data.DataLoader(dataset=cifar_test,batch_size=batch_size,shuffle=True)"
   ]
  },
  {
   "cell_type": "markdown",
   "metadata": {},
   "source": [
    "# Train denoising autoencoder\n",
    "### Encoder "
   ]
  },
  {
   "cell_type": "code",
   "execution_count": 22,
   "metadata": {
    "collapsed": true
   },
   "outputs": [],
   "source": [
    "# torch.nn.Conv2d(in_channels, out_channels, kernel_size,\n",
    "#                 stride=1, padding=0, dilation=1,\n",
    "#                 groups=1, bias=True)\n",
    "\n",
    "class Encoder(nn.Module):\n",
    "    def __init__(self):\n",
    "        super(Encoder,self).__init__()\n",
    "        self.layer1 = nn.Sequential(\n",
    "                        nn.Conv2d(3,32,3,padding=1),   # batch x 32 x 32 x 32\n",
    "                        nn.ReLU(),\n",
    "                        nn.BatchNorm2d(32),\n",
    "                        nn.Conv2d(32,32,3,padding=1),   # batch x 32 x 32 x 32\n",
    "                        nn.ReLU(),\n",
    "                        nn.BatchNorm2d(32),\n",
    "                        nn.Conv2d(32,64,3,padding=1),  # batch x 64 x 32 x 32\n",
    "                        nn.ReLU(),\n",
    "                        nn.BatchNorm2d(64),\n",
    "                        nn.Conv2d(64,64,3,padding=1),  # batch x 64 x 32 x 32\n",
    "                        nn.ReLU(),\n",
    "                        nn.BatchNorm2d(64),\n",
    "                        nn.MaxPool2d(2,2)   # batch x 64 x 16 x 16\n",
    "        )\n",
    "        self.layer2 = nn.Sequential(\n",
    "                        nn.Conv2d(64,128,3,padding=1),  # batch x 128 x 16 x 16\n",
    "                        nn.ReLU(),\n",
    "                        nn.BatchNorm2d(128),\n",
    "                        nn.Conv2d(128,128,3,padding=1),  # batch x 128 x 16 x 16\n",
    "                        nn.ReLU(),\n",
    "                        nn.BatchNorm2d(128),\n",
    "                        nn.MaxPool2d(2,2),  # batch x 128 x 8 x 8\n",
    "                        nn.Conv2d(128,256,3,padding=1),  # batch x 256 x 8 x 8\n",
    "                        nn.ReLU()\n",
    "        )\n",
    "        \n",
    "                \n",
    "    def forward(self,x):\n",
    "        out = self.layer1(x)\n",
    "        out = self.layer2(out)\n",
    "        out = out.view(batch_size, -1)\n",
    "        return out\n",
    "    \n"
   ]
  },
  {
   "cell_type": "markdown",
   "metadata": {},
   "source": [
    "### Decoder "
   ]
  },
  {
   "cell_type": "code",
   "execution_count": 23,
   "metadata": {
    "collapsed": true
   },
   "outputs": [],
   "source": [
    "# torch.nn.ConvTranspose2d(in_channels, out_channels, kernel_size,\n",
    "#                          stride=1, padding=0, output_padding=0,\n",
    "#                          groups=1, bias=True)\n",
    "# The kernel_size, stride, padding here are the values used in convolution\n",
    "# output_height = (height-1)*stride + kernel_size - 2*padding + output_padding\n",
    "# Above equation is the inverse process of the one in convolution (except the output_padding part): \n",
    "# output_height=(input_height + 2∗padding - kernel_size) / stride + 1 (should round down to an integer)\n",
    "\n",
    "# batch x 512 -> batch x 1 x 28 x 28\n",
    "\n",
    "\n",
    "class Decoder(nn.Module):\n",
    "    def __init__(self):\n",
    "        super(Decoder,self).__init__()\n",
    "        self.layer1 = nn.Sequential(\n",
    "                        nn.ConvTranspose2d(256,128,3,2,1,1), # stride=2 because of pooling in convolution\n",
    "                        nn.ReLU(),\n",
    "                        nn.BatchNorm2d(128),\n",
    "                        nn.ConvTranspose2d(128,128,3,1,1), # no output padding  # batch x 128 x 16 x 16\n",
    "                        nn.ReLU(),\n",
    "                        nn.BatchNorm2d(128),\n",
    "                        nn.ConvTranspose2d(128,64,3,1,1),\n",
    "                        nn.ReLU(),\n",
    "                        nn.BatchNorm2d(64),\n",
    "                        nn.ConvTranspose2d(64,64,3,1,1),\n",
    "                        nn.ReLU(),\n",
    "                        nn.BatchNorm2d(64)\n",
    "        )\n",
    "        self.layer2 = nn.Sequential(\n",
    "                        nn.ConvTranspose2d(64,32,3,2,1,1),\n",
    "                        nn.ReLU(),\n",
    "                        nn.BatchNorm2d(32),\n",
    "                        nn.ConvTranspose2d(32,32,3,1,1),\n",
    "                        nn.ReLU(),\n",
    "                        nn.BatchNorm2d(32),\n",
    "                        nn.ConvTranspose2d(32,3,3,1,1),\n",
    "                        nn.ReLU()\n",
    "        )\n",
    "        \n",
    "    def forward(self,x):\n",
    "        out = x.view(batch_size,256,8,8)\n",
    "        out = self.layer1(out)\n",
    "        out = self.layer2(out)\n",
    "        return out\n",
    "\n"
   ]
  },
  {
   "cell_type": "code",
   "execution_count": 24,
   "metadata": {
    "collapsed": true
   },
   "outputs": [],
   "source": [
    "encoder = Encoder().cuda()\n",
    "decoder = Decoder().cuda()"
   ]
  },
  {
   "cell_type": "markdown",
   "metadata": {},
   "source": [
    "### Self written Adam optimizer"
   ]
  },
  {
   "cell_type": "code",
   "execution_count": 25,
   "metadata": {
    "collapsed": true
   },
   "outputs": [],
   "source": [
    "class AdamOptimizer():\n",
    "    \n",
    "    def __init__(self,params,lr=0.001,betas=(0.9, 0.999), eps=1e-08, cuda=True): # params is the groups of parameters of a NN model\n",
    "        self.params=list(params) #params should be generator\n",
    "        if cuda==True:\n",
    "            self.first_moment=[Variable(torch.zeros(param_group.data.size()),requires_grad=False).cuda() for param_group in self.params] # a list of Variables\n",
    "            self.second_moment=[Variable(torch.zeros(param_group.data.size()),requires_grad=False).cuda() for param_group in self.params]\n",
    "        else:\n",
    "            self.first_moment=[Variable(torch.zeros(param_group.data.size()),requires_grad=False) for param_group in self.params] # a list of Variables\n",
    "            self.second_moment=[Variable(torch.zeros(param_group.data.size()),requires_grad=False) for param_group in self.params]\n",
    "        # Make these also Variable because we can only do arithmetic computation between Variables, but not Variable with Tensor\n",
    "        self.timepoint=0\n",
    "        self.lr=lr\n",
    "        self.beta1=betas[0]\n",
    "        self.beta2=betas[1]\n",
    "        self.eps=eps\n",
    "    \n",
    "    def zero_grad(self):\n",
    "        for param_group in self.params:\n",
    "            if param_group.grad is None: # if no gradient of the parameters has been calculated yet\n",
    "                return\n",
    "            param_group.grad.data.zero_() # set all the gradients of the parameters to zero\n",
    "    \n",
    "    def step(self):\n",
    "        self.timepoint+=1\n",
    "        param_group_idx=0 #index of the parameter groups\n",
    "        for param_group in self.params:\n",
    "            self.first_moment[param_group_idx] = self.beta1 * self.first_moment[param_group_idx] + (1 - self.beta1) * param_group.grad\n",
    "            self.second_moment[param_group_idx] = self.beta2 * self.second_moment[param_group_idx] + (1 - self.beta2) * param_group.grad * param_group.grad\n",
    "            first_unbiased = self.first_moment[param_group_idx] / (1 - self.beta1**self.timepoint) # calculate unbiased first moment\n",
    "            second_unbiased = self.second_moment[param_group_idx] / (1 - self.beta2**self.timepoint) # calculate unbiased second moment\n",
    "            param_group.data.add_(-(self.lr * first_unbiased / (second_unbiased**0.5 + self.eps)).data) # update parameters\n",
    "            param_group_idx+=1\n",
    "            "
   ]
  },
  {
   "cell_type": "markdown",
   "metadata": {},
   "source": [
    "### Noise"
   ]
  },
  {
   "cell_type": "code",
   "execution_count": 26,
   "metadata": {
    "collapsed": true
   },
   "outputs": [],
   "source": [
    "noise = torch.rand(batch_size,3,32,32)"
   ]
  },
  {
   "cell_type": "markdown",
   "metadata": {},
   "source": [
    "### Loss function and optimizer"
   ]
  },
  {
   "cell_type": "code",
   "execution_count": 27,
   "metadata": {},
   "outputs": [],
   "source": [
    "# Loss function: use Mean Squared Error\n",
    "# del optimizer\n",
    "parameters = list(encoder.parameters())+ list(decoder.parameters()) # concat parameters\n",
    "optimizer = torch.optim.Adam(parameters, lr=learning_rate)\n",
    "# optimizer = AdamOptimizer(parameters,lr=learning_rate,cuda=CUDA) # using self written Adam\n",
    "loss_func = nn.MSELoss().cuda()\n"
   ]
  },
  {
   "cell_type": "markdown",
   "metadata": {},
   "source": [
    "### Check output dimensions of autoencoder"
   ]
  },
  {
   "cell_type": "code",
   "execution_count": 28,
   "metadata": {},
   "outputs": [
    {
     "name": "stdout",
     "output_type": "stream",
     "text": [
      "(25, 3, 32, 32)\n",
      "(16384,)\n",
      "torch.Size([25, 3, 32, 32])\n"
     ]
    }
   ],
   "source": [
    "# (25, 3, 32, 32)\n",
    "for image,label in train_loader:\n",
    "    print(image.numpy().shape)\n",
    "    image = Variable(image).cuda()\n",
    "    \n",
    "    output = encoder(image)\n",
    "    print(output.cpu().data[0].numpy().shape)\n",
    "    output = decoder(output)\n",
    "    print(output.size())\n",
    "    break"
   ]
  },
  {
   "cell_type": "code",
   "execution_count": 29,
   "metadata": {
    "collapsed": true
   },
   "outputs": [],
   "source": [
    "# del encoder\n",
    "# del decoder\n",
    "# # Free memory"
   ]
  },
  {
   "cell_type": "markdown",
   "metadata": {},
   "source": [
    "### Train autoencoder"
   ]
  },
  {
   "cell_type": "code",
   "execution_count": 30,
   "metadata": {
    "scrolled": true
   },
   "outputs": [
    {
     "name": "stdout",
     "output_type": "stream",
     "text": [
      "Epoch 1:\n",
      "MSE Loss: 9.3429 * 1e-03  [12500/50000 (25%)]\n",
      "MSE Loss: 6.6287 * 1e-03  [25000/50000 (50%)]\n",
      "MSE Loss: 7.1865 * 1e-03  [37500/50000 (75%)]\n",
      "MSE Loss: 5.3503 * 1e-03  [50000/50000 (100%)]\n",
      "Time elapsed: 2m 25s\n",
      "\n",
      "Average test MSE Loss: 4.9718 * 1e-03\n",
      "Time elapsed: 2m 35s\n",
      "\n",
      "Epoch 2:\n",
      "MSE Loss: 5.7882 * 1e-03  [12500/50000 (25%)]\n",
      "MSE Loss: 4.0427 * 1e-03  [25000/50000 (50%)]\n",
      "MSE Loss: 3.2105 * 1e-03  [37500/50000 (75%)]\n",
      "MSE Loss: 8.6570 * 1e-03  [50000/50000 (100%)]\n",
      "Time elapsed: 5m 4s\n",
      "\n",
      "Average test MSE Loss: 4.1794 * 1e-03\n",
      "Time elapsed: 5m 14s\n",
      "\n",
      "Epoch 3:\n",
      "MSE Loss: 3.1217 * 1e-03  [12500/50000 (25%)]\n",
      "MSE Loss: 4.5545 * 1e-03  [25000/50000 (50%)]\n",
      "MSE Loss: 2.5123 * 1e-03  [37500/50000 (75%)]\n",
      "MSE Loss: 2.4638 * 1e-03  [50000/50000 (100%)]\n",
      "Time elapsed: 7m 44s\n",
      "\n",
      "Average test MSE Loss: 3.9433 * 1e-03\n",
      "Time elapsed: 7m 55s\n",
      "\n",
      "Epoch 4:\n",
      "MSE Loss: 3.2391 * 1e-03  [12500/50000 (25%)]\n",
      "MSE Loss: 2.5337 * 1e-03  [25000/50000 (50%)]\n",
      "MSE Loss: 2.3057 * 1e-03  [37500/50000 (75%)]\n",
      "MSE Loss: 2.0245 * 1e-03  [50000/50000 (100%)]\n",
      "Time elapsed: 10m 26s\n",
      "\n",
      "Average test MSE Loss: 4.4317 * 1e-03\n",
      "Time elapsed: 10m 36s\n",
      "\n",
      "Epoch 5:\n",
      "MSE Loss: 3.1573 * 1e-03  [12500/50000 (25%)]\n",
      "MSE Loss: 1.9729 * 1e-03  [25000/50000 (50%)]\n",
      "MSE Loss: 3.4634 * 1e-03  [37500/50000 (75%)]\n",
      "MSE Loss: 3.5393 * 1e-03  [50000/50000 (100%)]\n",
      "Time elapsed: 13m 7s\n",
      "\n",
      "Average test MSE Loss: 2.0755 * 1e-03\n",
      "Time elapsed: 13m 17s\n",
      "\n",
      "Epoch 6:\n",
      "MSE Loss: 1.9060 * 1e-03  [12500/50000 (25%)]\n",
      "MSE Loss: 2.2220 * 1e-03  [25000/50000 (50%)]\n",
      "MSE Loss: 2.8845 * 1e-03  [37500/50000 (75%)]\n",
      "MSE Loss: 3.2642 * 1e-03  [50000/50000 (100%)]\n",
      "Time elapsed: 15m 50s\n",
      "\n",
      "Average test MSE Loss: 2.0217 * 1e-03\n",
      "Time elapsed: 15m 60s\n",
      "\n",
      "Epoch 7:\n",
      "MSE Loss: 1.7092 * 1e-03  [12500/50000 (25%)]\n",
      "MSE Loss: 2.0193 * 1e-03  [25000/50000 (50%)]\n",
      "MSE Loss: 2.0045 * 1e-03  [37500/50000 (75%)]\n",
      "MSE Loss: 2.6714 * 1e-03  [50000/50000 (100%)]\n",
      "Time elapsed: 18m 33s\n",
      "\n",
      "Average test MSE Loss: 1.8823 * 1e-03\n",
      "Time elapsed: 18m 43s\n",
      "\n",
      "Epoch 8:\n",
      "MSE Loss: 1.8043 * 1e-03  [12500/50000 (25%)]\n",
      "MSE Loss: 2.7827 * 1e-03  [25000/50000 (50%)]\n",
      "MSE Loss: 1.6291 * 1e-03  [37500/50000 (75%)]\n",
      "MSE Loss: 1.4101 * 1e-03  [50000/50000 (100%)]\n",
      "Time elapsed: 21m 16s\n",
      "\n",
      "Average test MSE Loss: 1.4291 * 1e-03\n",
      "Time elapsed: 21m 26s\n",
      "\n",
      "Epoch 9:\n",
      "MSE Loss: 2.7547 * 1e-03  [12500/50000 (25%)]\n",
      "MSE Loss: 3.4605 * 1e-03  [25000/50000 (50%)]\n",
      "MSE Loss: 3.1755 * 1e-03  [37500/50000 (75%)]\n",
      "MSE Loss: 1.7813 * 1e-03  [50000/50000 (100%)]\n",
      "Time elapsed: 23m 59s\n",
      "\n",
      "Average test MSE Loss: 1.5631 * 1e-03\n",
      "Time elapsed: 24m 9s\n",
      "\n",
      "Epoch 10:\n",
      "MSE Loss: 3.9366 * 1e-03  [12500/50000 (25%)]\n",
      "MSE Loss: 1.4509 * 1e-03  [25000/50000 (50%)]\n",
      "MSE Loss: 1.9341 * 1e-03  [37500/50000 (75%)]\n",
      "MSE Loss: 2.4957 * 1e-03  [50000/50000 (100%)]\n",
      "Time elapsed: 26m 42s\n",
      "\n",
      "Average test MSE Loss: 2.4012 * 1e-03\n",
      "Time elapsed: 26m 52s\n",
      "\n",
      "Final MSE Loss: 0.0023752159904688597\n"
     ]
    }
   ],
   "source": [
    "since = time.time()\n",
    "loss_vec_train=[] # average training loss of each epoch\n",
    "loss_vec_test=[] # average test loss of each epoch\n",
    "\n",
    "\n",
    "for i in range(epoch):\n",
    "    encoder.train() # set the models to train mode\n",
    "    decoder.train()\n",
    "    print(\"Epoch {}:\".format(i+1))\n",
    "    num_iter=0 # index of iteration in each epoch\n",
    "    epoch_loss=0\n",
    "    for image,label in train_loader:\n",
    "        num_iter+=1\n",
    "        image_n = torch.mul(image+0.25, 0.1 * noise) # add noise to original image\n",
    "        image = Variable(image).cuda()\n",
    "        image_n = Variable(image_n).cuda()\n",
    "        #label = Variable(label.float()).cuda()\n",
    "        optimizer.zero_grad()\n",
    "        output = encoder(image_n)\n",
    "        output = decoder(output)\n",
    "        loss = loss_func(output,image)\n",
    "        loss.backward()\n",
    "        optimizer.step()\n",
    "        epoch_loss+=loss.data[0]\n",
    "        if num_iter%500==0:\n",
    "            print(\"MSE Loss: {:.4f} * 1e-03  [{}/{} ({:.0f}%)]\"\n",
    "                  .format(loss.data[0]*1000,num_iter*batch_size,len(train_loader)*batch_size,num_iter/len(train_loader)*100))\n",
    "            \n",
    "    # record loss change\n",
    "    epoch_loss/=len(train_loader)\n",
    "    loss_vec_train.append(epoch_loss) # Add the average loss of this epoch\n",
    "    time_elapsed = time.time() - since\n",
    "    print(\"Time elapsed: {:.0f}m {:.0f}s\\n\".format(time_elapsed // 60, time_elapsed % 60))\n",
    "    \n",
    "    # test on test dataset\n",
    "    encoder.eval() # set the models to evaluation mode\n",
    "    decoder.eval()\n",
    "    test_loss=0\n",
    "    for image,label in test_loader:\n",
    "        image_n = torch.mul(image+0.25, 0.1 * noise) # add noise to original image\n",
    "        image = Variable(image, volatile=True).cuda()  # volatile=True is more efficient when you won’t call .backward()\n",
    "        image_n = Variable(image_n, volatile=True).cuda()\n",
    "        #label = Variable(label.float()).cuda()\n",
    "        output = encoder(image_n)\n",
    "        output = decoder(output)\n",
    "        loss = loss_func(output,image)\n",
    "        test_loss+=loss.data[0]\n",
    "    \n",
    "    print(\"Average test MSE Loss: {:.4f} * 1e-03\".format(test_loss/len(test_loader)*1000))   \n",
    "    loss_vec_test.append(test_loss/len(test_loader))\n",
    "    time_elapsed = time.time() - since # Add the average test loss of this epoch\n",
    "    print(\"Time elapsed: {:.0f}m {:.0f}s\\n\".format(time_elapsed // 60, time_elapsed % 60))\n",
    "          \n",
    "# record time                \n",
    "print(\"Final MSE Loss: {}\".format(loss.data[0]))\n"
   ]
  },
  {
   "cell_type": "markdown",
   "metadata": {},
   "source": [
    "### Plot training and test loss"
   ]
  },
  {
   "cell_type": "code",
   "execution_count": 32,
   "metadata": {},
   "outputs": [
    {
     "name": "stdout",
     "output_type": "stream",
     "text": [
      "[0.010364478191593663, 0.004966356046847068, 0.003809192085871473, 0.003282448042940814, 0.002914880636089947, 0.0027087100017815827, 0.002523546628886834, 0.002433675814769231, 0.0022964707099599763, 0.0021905308330897244]\n"
     ]
    },
    {
     "data": {
      "image/png": "[encoded data removed]",
      "text/plain": [
       "<matplotlib.figure.Figure at 0x7fbe7524d588>"
      ]
     },
     "metadata": {},
     "output_type": "display_data"
    },
    {
     "data": {
      "image/png": "[encoded data removed]",
      "text/plain": [
       "<matplotlib.figure.Figure at 0x7fbe750fff60>"
      ]
     },
     "metadata": {},
     "output_type": "display_data"
    }
   ],
   "source": [
    "print(loss_vec_train)\n",
    "       \n",
    "plt.plot(np.arange(1,epoch+1),loss_vec_train, 'b') #visualize loss change\n",
    "plt.title('Average training loss of each epoch')\n",
    "plt.show()\n",
    "\n",
    "plt.plot(np.arange(1,epoch+1),loss_vec_test, 'r') #visualize loss change\n",
    "plt.title('Average test loss of each epoch')\n",
    "plt.show()"
   ]
  },
  {
   "cell_type": "markdown",
   "metadata": {},
   "source": [
    "### Save model"
   ]
  },
  {
   "cell_type": "code",
   "execution_count": 41,
   "metadata": {},
   "outputs": [
    {
     "name": "stderr",
     "output_type": "stream",
     "text": [
      "/home/local/stud/zhaoy/anaconda3/lib/python3.6/site-packages/torch/serialization.py:158: UserWarning: Couldn't retrieve source code for container of type Encoder. It won't be checked for correctness upon loading.\n",
      "  \"type \" + obj.__name__ + \". It won't be checked \"\n",
      "/home/local/stud/zhaoy/anaconda3/lib/python3.6/site-packages/torch/serialization.py:158: UserWarning: Couldn't retrieve source code for container of type Decoder. It won't be checked for correctness upon loading.\n",
      "  \"type \" + obj.__name__ + \". It won't be checked \"\n"
     ]
    }
   ],
   "source": [
    "if not os.path.exists('./model'):\n",
    "    os.mkdir('./model')\n",
    "torch.save([encoder,decoder],'./model/deno_autoencoder_CIFAR10_final.pkl')"
   ]
  },
  {
   "cell_type": "markdown",
   "metadata": {},
   "source": [
    "### Check denoised output image"
   ]
  },
  {
   "cell_type": "code",
   "execution_count": 40,
   "metadata": {},
   "outputs": [
    {
     "data": {
      "image/png": "[encoded data removed]",
      "text/plain": [
       "<matplotlib.figure.Figure at 0x7fbe6fd41c18>"
      ]
     },
     "metadata": {},
     "output_type": "display_data"
    },
    {
     "data": {
      "image/png": "[encoded data removed]",
      "text/plain": [
       "<matplotlib.figure.Figure at 0x7fbe6fc085c0>"
      ]
     },
     "metadata": {},
     "output_type": "display_data"
    },
    {
     "data": {
      "image/png": "[encoded data removed]",
      "text/plain": [
       "<matplotlib.figure.Figure at 0x7fbe6fc1fdd8>"
      ]
     },
     "metadata": {},
     "output_type": "display_data"
    },
    {
     "name": "stdout",
     "output_type": "stream",
     "text": [
      "7\n"
     ]
    }
   ],
   "source": [
    "img = image[0].cpu()\n",
    "input_img = image_n[0].cpu()\n",
    "output_img = output[0].cpu()\n",
    "\n",
    "origin = img.data.numpy()\n",
    "inp = input_img.data.numpy()\n",
    "out = output_img.data.numpy()\n",
    "\n",
    "plt.imshow(origin.transpose((1,2,0)))\n",
    "plt.show()\n",
    "\n",
    "plt.imshow(inp.transpose((1,2,0)))\n",
    "plt.show()\n",
    "\n",
    "plt.imshow(out.transpose((1,2,0)))\n",
    "plt.show()\n",
    "\n",
    "print(label[0])"
   ]
  },
  {
   "cell_type": "markdown",
   "metadata": {},
   "source": [
    "# Use the latent space of trained encoder to do classification \n",
    "### Loading stored encoder, and fix its parameters"
   ]
  },
  {
   "cell_type": "code",
   "execution_count": null,
   "metadata": {},
   "outputs": [],
   "source": [
    "# del encoder\n",
    "# del decoder"
   ]
  },
  {
   "cell_type": "code",
   "execution_count": 49,
   "metadata": {},
   "outputs": [
    {
     "name": "stdout",
     "output_type": "stream",
     "text": [
      "\n",
      "--------model restored--------\n",
      "\n"
     ]
    },
    {
     "data": {
      "text/plain": [
       "Encoder(\n",
       "  (layer1): Sequential(\n",
       "    (0): Conv2d (3, 32, kernel_size=(3, 3), stride=(1, 1), padding=(1, 1))\n",
       "    (1): ReLU()\n",
       "    (2): BatchNorm2d(32, eps=1e-05, momentum=0.1, affine=True)\n",
       "    (3): Conv2d (32, 32, kernel_size=(3, 3), stride=(1, 1), padding=(1, 1))\n",
       "    (4): ReLU()\n",
       "    (5): BatchNorm2d(32, eps=1e-05, momentum=0.1, affine=True)\n",
       "    (6): Conv2d (32, 64, kernel_size=(3, 3), stride=(1, 1), padding=(1, 1))\n",
       "    (7): ReLU()\n",
       "    (8): BatchNorm2d(64, eps=1e-05, momentum=0.1, affine=True)\n",
       "    (9): Conv2d (64, 64, kernel_size=(3, 3), stride=(1, 1), padding=(1, 1))\n",
       "    (10): ReLU()\n",
       "    (11): BatchNorm2d(64, eps=1e-05, momentum=0.1, affine=True)\n",
       "    (12): MaxPool2d(kernel_size=(2, 2), stride=(2, 2), dilation=(1, 1))\n",
       "  )\n",
       "  (layer2): Sequential(\n",
       "    (0): Conv2d (64, 128, kernel_size=(3, 3), stride=(1, 1), padding=(1, 1))\n",
       "    (1): ReLU()\n",
       "    (2): BatchNorm2d(128, eps=1e-05, momentum=0.1, affine=True)\n",
       "    (3): Conv2d (128, 128, kernel_size=(3, 3), stride=(1, 1), padding=(1, 1))\n",
       "    (4): ReLU()\n",
       "    (5): BatchNorm2d(128, eps=1e-05, momentum=0.1, affine=True)\n",
       "    (6): MaxPool2d(kernel_size=(2, 2), stride=(2, 2), dilation=(1, 1))\n",
       "    (7): Conv2d (128, 256, kernel_size=(3, 3), stride=(1, 1), padding=(1, 1))\n",
       "    (8): ReLU()\n",
       "  )\n",
       ")"
      ]
     },
     "execution_count": 49,
     "metadata": {},
     "output_type": "execute_result"
    }
   ],
   "source": [
    "# Load model\n",
    "# try loading stored model\n",
    "try:\n",
    "    encoder, decoder = torch.load('./model/deno_autoencoder_CIFAR10_final.pkl')\n",
    "    print(\"\\n--------model restored--------\\n\")\n",
    "except:\n",
    "    print(\"\\n--------model not restored--------\\n\")\n",
    "    pass\n",
    "\n",
    "del decoder # decoder will not be used\n",
    "\n",
    "for param in encoder.parameters():\n",
    "    param.requires_grad = False # do not change the weights in the encoder layers\n",
    "encoder.cuda()\n"
   ]
  },
  {
   "cell_type": "markdown",
   "metadata": {},
   "source": [
    "### Fully connected layer to be concatenated to encoder"
   ]
  },
  {
   "cell_type": "code",
   "execution_count": 44,
   "metadata": {
    "collapsed": true
   },
   "outputs": [],
   "source": [
    "class FC(nn.Module):\n",
    "    def __init__(self):\n",
    "        super(FC,self).__init__()\n",
    "        self.layer1 = nn.Sequential(\n",
    "                        nn.Linear(256*8*8,num_neuron_layer), # hidden layer 1\n",
    "                        nn.ReLU(),\n",
    "                        nn.BatchNorm1d(num_neuron_layer), # should I add this layer? Yes, result in faster learning and has regularization function\n",
    "                        nn.Linear(num_neuron_layer,num_neuron_layer), # hidden layer 2\n",
    "                        nn.ReLU(),\n",
    "                        nn.BatchNorm1d(num_neuron_layer),\n",
    "                        nn.Linear(num_neuron_layer,num_neuron_layer), # hidden layer 3\n",
    "                        nn.ReLU(),\n",
    "                        nn.BatchNorm1d(num_neuron_layer),\n",
    "                        nn.Linear(num_neuron_layer,num_neuron_layer), # hidden layer 4\n",
    "                        nn.ReLU(),\n",
    "                        nn.BatchNorm1d(num_neuron_layer),\n",
    "                        nn.Linear(num_neuron_layer,10), # hidden layer 5\n",
    "        )\n",
    "        \n",
    "        \n",
    "    def forward(self,x):\n",
    "        out = x.view(batch_size,-1)\n",
    "        out = self.layer1(out)\n",
    "        return out\n"
   ]
  },
  {
   "cell_type": "markdown",
   "metadata": {
    "collapsed": true
   },
   "source": [
    "### Initialize fully connected layer, classification loss function and optimizer"
   ]
  },
  {
   "cell_type": "code",
   "execution_count": 51,
   "metadata": {
    "collapsed": true
   },
   "outputs": [],
   "source": [
    "fc_layers=FC().cuda() # should reinitialize every time when changing the optimizer!!\n",
    "\n",
    "criterion = nn.CrossEntropyLoss().cuda()\n",
    "parameters_2 = fc_layers.parameters()\n",
    "\n",
    "# optimizer_2 = AdamOptimizer(parameters_2,lr=learning_rate_2,cuda=CUDA) # self-written adam optimizer\n",
    "optimizer_2 = torch.optim.Adam(parameters_2, lr=learning_rate_2)\n",
    "# optimizer_2 = torch.optim.SGD(parameters_2, lr=learning_rate_2, momentum=momentum)\n",
    "# optimizer_2 = torch.optim.Adadelta(parameters_2) # Default lr of Adadelta is 1.0"
   ]
  },
  {
   "cell_type": "code",
   "execution_count": 52,
   "metadata": {
    "collapsed": true
   },
   "outputs": [],
   "source": [
    "# del parameters_2\n",
    "# del optimizer_2\n",
    "# del fc_layers\n",
    "# # To free memory\n",
    "# epoch=20"
   ]
  },
  {
   "cell_type": "markdown",
   "metadata": {
    "collapsed": true
   },
   "source": [
    "### concatenate encoder and fc and train fc"
   ]
  },
  {
   "cell_type": "code",
   "execution_count": 53,
   "metadata": {
    "scrolled": false
   },
   "outputs": [
    {
     "name": "stdout",
     "output_type": "stream",
     "text": [
      "Epoch 1:\n",
      "Loss: 2.0434  [6250/50000 (12%)]\n",
      "Loss: 1.7264  [12500/50000 (25%)]\n",
      "Loss: 1.8459  [18750/50000 (38%)]\n",
      "Loss: 2.1164  [25000/50000 (50%)]\n",
      "Loss: 1.7653  [31250/50000 (62%)]\n",
      "Loss: 1.5206  [37500/50000 (75%)]\n",
      "Loss: 1.4898  [43750/50000 (88%)]\n",
      "Loss: 1.5223  [50000/50000 (100%)]\n",
      "Average training accuracy: 39.28%\n",
      "Time elapsed: 0m 58s\n",
      "\n",
      "Average test accuracy: 46.62%\n",
      "Time elapsed: 1m 5s\n",
      "\n",
      "Epoch 2:\n",
      "Loss: 1.2554  [6250/50000 (12%)]\n",
      "Loss: 1.4197  [12500/50000 (25%)]\n",
      "Loss: 1.2310  [18750/50000 (38%)]\n",
      "Loss: 1.2733  [25000/50000 (50%)]\n",
      "Loss: 1.5439  [31250/50000 (62%)]\n",
      "Loss: 1.2230  [37500/50000 (75%)]\n",
      "Loss: 1.6055  [43750/50000 (88%)]\n",
      "Loss: 1.7158  [50000/50000 (100%)]\n",
      "Average training accuracy: 47.13%\n",
      "Time elapsed: 2m 4s\n",
      "\n",
      "Average test accuracy: 49.01%\n",
      "Time elapsed: 2m 11s\n",
      "\n",
      "Epoch 3:\n",
      "Loss: 1.3145  [6250/50000 (12%)]\n",
      "Loss: 1.2926  [12500/50000 (25%)]\n",
      "Loss: 1.1892  [18750/50000 (38%)]\n",
      "Loss: 1.3194  [25000/50000 (50%)]\n",
      "Loss: 1.3734  [31250/50000 (62%)]\n",
      "Loss: 1.3741  [37500/50000 (75%)]\n",
      "Loss: 1.2521  [43750/50000 (88%)]\n",
      "Loss: 1.0828  [50000/50000 (100%)]\n",
      "Average training accuracy: 50.50%\n",
      "Time elapsed: 3m 22s\n",
      "\n",
      "Average test accuracy: 51.10%\n",
      "Time elapsed: 3m 37s\n",
      "\n",
      "Epoch 4:\n",
      "Loss: 1.5659  [6250/50000 (12%)]\n",
      "Loss: 1.2913  [12500/50000 (25%)]\n",
      "Loss: 1.9401  [18750/50000 (38%)]\n",
      "Loss: 1.0039  [25000/50000 (50%)]\n",
      "Loss: 0.9760  [31250/50000 (62%)]\n",
      "Loss: 1.2737  [37500/50000 (75%)]\n",
      "Loss: 1.4685  [43750/50000 (88%)]\n",
      "Loss: 1.1926  [50000/50000 (100%)]\n",
      "Average training accuracy: 52.88%\n",
      "Time elapsed: 5m 44s\n",
      "\n",
      "Average test accuracy: 53.25%\n",
      "Time elapsed: 5m 58s\n",
      "\n",
      "Epoch 5:\n",
      "Loss: 1.8524  [6250/50000 (12%)]\n",
      "Loss: 1.1576  [12500/50000 (25%)]\n",
      "Loss: 1.1453  [18750/50000 (38%)]\n",
      "Loss: 1.1837  [25000/50000 (50%)]\n",
      "Loss: 0.9564  [31250/50000 (62%)]\n",
      "Loss: 1.3047  [37500/50000 (75%)]\n",
      "Loss: 0.8896  [43750/50000 (88%)]\n",
      "Loss: 1.2434  [50000/50000 (100%)]\n",
      "Average training accuracy: 54.60%\n",
      "Time elapsed: 8m 8s\n",
      "\n",
      "Average test accuracy: 52.08%\n",
      "Time elapsed: 8m 23s\n",
      "\n",
      "Epoch 6:\n",
      "Loss: 1.5045  [6250/50000 (12%)]\n",
      "Loss: 1.3109  [12500/50000 (25%)]\n",
      "Loss: 1.1873  [18750/50000 (38%)]\n",
      "Loss: 1.4453  [25000/50000 (50%)]\n",
      "Loss: 1.3319  [31250/50000 (62%)]\n",
      "Loss: 0.9046  [37500/50000 (75%)]\n",
      "Loss: 1.2082  [43750/50000 (88%)]\n",
      "Loss: 1.3711  [50000/50000 (100%)]\n",
      "Average training accuracy: 56.08%\n",
      "Time elapsed: 10m 32s\n",
      "\n",
      "Average test accuracy: 54.83%\n",
      "Time elapsed: 10m 47s\n",
      "\n",
      "Epoch 7:\n",
      "Loss: 0.8975  [6250/50000 (12%)]\n",
      "Loss: 1.1166  [12500/50000 (25%)]\n",
      "Loss: 1.1285  [18750/50000 (38%)]\n",
      "Loss: 1.5566  [25000/50000 (50%)]\n",
      "Loss: 1.2696  [31250/50000 (62%)]\n",
      "Loss: 1.4475  [37500/50000 (75%)]\n",
      "Loss: 1.3540  [43750/50000 (88%)]\n",
      "Loss: 1.0305  [50000/50000 (100%)]\n",
      "Average training accuracy: 57.41%\n",
      "Time elapsed: 12m 58s\n",
      "\n",
      "Average test accuracy: 55.14%\n",
      "Time elapsed: 13m 14s\n",
      "\n",
      "Epoch 8:\n",
      "Loss: 1.4062  [6250/50000 (12%)]\n",
      "Loss: 0.9771  [12500/50000 (25%)]\n",
      "Loss: 1.0723  [18750/50000 (38%)]\n",
      "Loss: 0.9735  [25000/50000 (50%)]\n",
      "Loss: 1.1895  [31250/50000 (62%)]\n",
      "Loss: 1.3851  [37500/50000 (75%)]\n",
      "Loss: 1.2956  [43750/50000 (88%)]\n",
      "Loss: 1.3738  [50000/50000 (100%)]\n",
      "Average training accuracy: 58.17%\n",
      "Time elapsed: 15m 24s\n",
      "\n",
      "Average test accuracy: 54.47%\n",
      "Time elapsed: 15m 39s\n",
      "\n",
      "Epoch 9:\n",
      "Loss: 0.9649  [6250/50000 (12%)]\n",
      "Loss: 1.2198  [12500/50000 (25%)]\n",
      "Loss: 1.1889  [18750/50000 (38%)]\n",
      "Loss: 1.4736  [25000/50000 (50%)]\n",
      "Loss: 1.2284  [31250/50000 (62%)]\n",
      "Loss: 0.8763  [37500/50000 (75%)]\n",
      "Loss: 0.9695  [43750/50000 (88%)]\n",
      "Loss: 1.8808  [50000/50000 (100%)]\n",
      "Average training accuracy: 58.65%\n",
      "Time elapsed: 17m 50s\n",
      "\n",
      "Average test accuracy: 55.79%\n",
      "Time elapsed: 18m 6s\n",
      "\n",
      "Epoch 10:\n",
      "Loss: 1.0272  [6250/50000 (12%)]\n",
      "Loss: 0.9061  [12500/50000 (25%)]\n",
      "Loss: 1.0682  [18750/50000 (38%)]\n",
      "Loss: 1.0413  [25000/50000 (50%)]\n",
      "Loss: 1.5189  [31250/50000 (62%)]\n",
      "Loss: 1.1260  [37500/50000 (75%)]\n",
      "Loss: 1.1740  [43750/50000 (88%)]\n",
      "Loss: 1.2501  [50000/50000 (100%)]\n",
      "Average training accuracy: 59.57%\n",
      "Time elapsed: 20m 16s\n",
      "\n",
      "Average test accuracy: 55.66%\n",
      "Time elapsed: 20m 31s\n",
      "\n",
      "Epoch 11:\n",
      "Loss: 1.3688  [6250/50000 (12%)]\n",
      "Loss: 1.3975  [12500/50000 (25%)]\n",
      "Loss: 0.9940  [18750/50000 (38%)]\n",
      "Loss: 1.3645  [25000/50000 (50%)]\n",
      "Loss: 1.1865  [31250/50000 (62%)]\n",
      "Loss: 0.9695  [37500/50000 (75%)]\n",
      "Loss: 0.7577  [43750/50000 (88%)]\n",
      "Loss: 1.0234  [50000/50000 (100%)]\n",
      "Average training accuracy: 60.27%\n",
      "Time elapsed: 22m 27s\n",
      "\n",
      "Average test accuracy: 56.72%\n",
      "Time elapsed: 22m 34s\n",
      "\n",
      "Epoch 12:\n",
      "Loss: 1.3918  [6250/50000 (12%)]\n",
      "Loss: 1.2547  [12500/50000 (25%)]\n",
      "Loss: 0.8423  [18750/50000 (38%)]\n",
      "Loss: 1.2744  [25000/50000 (50%)]\n",
      "Loss: 1.0910  [31250/50000 (62%)]\n",
      "Loss: 1.6469  [37500/50000 (75%)]\n",
      "Loss: 0.7236  [43750/50000 (88%)]\n",
      "Loss: 0.9919  [50000/50000 (100%)]\n",
      "Average training accuracy: 61.03%\n",
      "Time elapsed: 23m 35s\n",
      "\n",
      "Average test accuracy: 57.25%\n",
      "Time elapsed: 23m 42s\n",
      "\n",
      "Epoch 13:\n",
      "Loss: 0.7666  [6250/50000 (12%)]\n",
      "Loss: 1.0474  [12500/50000 (25%)]\n",
      "Loss: 1.6444  [18750/50000 (38%)]\n",
      "Loss: 1.0620  [25000/50000 (50%)]\n",
      "Loss: 1.0862  [31250/50000 (62%)]\n",
      "Loss: 0.6870  [37500/50000 (75%)]\n",
      "Loss: 1.0269  [43750/50000 (88%)]\n",
      "Loss: 1.1478  [50000/50000 (100%)]\n",
      "Average training accuracy: 61.66%\n",
      "Time elapsed: 24m 43s\n",
      "\n",
      "Average test accuracy: 56.75%\n",
      "Time elapsed: 24m 50s\n",
      "\n",
      "Epoch 14:\n",
      "Loss: 0.9308  [6250/50000 (12%)]\n",
      "Loss: 1.1654  [12500/50000 (25%)]\n",
      "Loss: 1.1072  [18750/50000 (38%)]\n",
      "Loss: 0.9935  [25000/50000 (50%)]\n",
      "Loss: 0.9390  [31250/50000 (62%)]\n",
      "Loss: 1.0035  [37500/50000 (75%)]\n",
      "Loss: 1.0726  [43750/50000 (88%)]\n",
      "Loss: 1.6253  [50000/50000 (100%)]\n",
      "Average training accuracy: 62.23%\n",
      "Time elapsed: 25m 51s\n",
      "\n",
      "Average test accuracy: 56.94%\n",
      "Time elapsed: 25m 59s\n",
      "\n",
      "Epoch 15:\n",
      "Loss: 0.7310  [6250/50000 (12%)]\n",
      "Loss: 1.0001  [12500/50000 (25%)]\n",
      "Loss: 0.8470  [18750/50000 (38%)]\n",
      "Loss: 1.0417  [25000/50000 (50%)]\n",
      "Loss: 1.2072  [31250/50000 (62%)]\n",
      "Loss: 1.1685  [37500/50000 (75%)]\n",
      "Loss: 1.4083  [43750/50000 (88%)]\n",
      "Loss: 0.9955  [50000/50000 (100%)]\n",
      "Average training accuracy: 62.83%\n",
      "Time elapsed: 26m 59s\n",
      "\n",
      "Average test accuracy: 56.98%\n",
      "Time elapsed: 27m 7s\n",
      "\n",
      "Epoch 16:\n",
      "Loss: 0.9662  [6250/50000 (12%)]\n",
      "Loss: 0.8434  [12500/50000 (25%)]\n",
      "Loss: 0.8791  [18750/50000 (38%)]\n",
      "Loss: 0.9710  [25000/50000 (50%)]\n",
      "Loss: 1.1051  [31250/50000 (62%)]\n",
      "Loss: 0.9040  [37500/50000 (75%)]\n",
      "Loss: 0.9274  [43750/50000 (88%)]\n",
      "Loss: 1.2128  [50000/50000 (100%)]\n",
      "Average training accuracy: 63.40%\n",
      "Time elapsed: 28m 8s\n",
      "\n",
      "Average test accuracy: 56.40%\n",
      "Time elapsed: 28m 15s\n",
      "\n",
      "Epoch 17:\n",
      "Loss: 0.9847  [6250/50000 (12%)]\n",
      "Loss: 0.7778  [12500/50000 (25%)]\n",
      "Loss: 1.4022  [18750/50000 (38%)]\n",
      "Loss: 1.3467  [25000/50000 (50%)]\n",
      "Loss: 0.8438  [31250/50000 (62%)]\n",
      "Loss: 1.4252  [37500/50000 (75%)]\n",
      "Loss: 0.8784  [43750/50000 (88%)]\n",
      "Loss: 1.4227  [50000/50000 (100%)]\n",
      "Average training accuracy: 64.29%\n",
      "Time elapsed: 29m 15s\n",
      "\n",
      "Average test accuracy: 58.67%\n",
      "Time elapsed: 29m 23s\n",
      "\n",
      "Epoch 18:\n",
      "Loss: 1.0208  [6250/50000 (12%)]\n",
      "Loss: 1.0856  [12500/50000 (25%)]\n",
      "Loss: 0.5818  [18750/50000 (38%)]\n",
      "Loss: 0.9357  [25000/50000 (50%)]\n",
      "Loss: 0.8545  [31250/50000 (62%)]\n",
      "Loss: 1.0165  [37500/50000 (75%)]\n",
      "Loss: 1.1553  [43750/50000 (88%)]\n",
      "Loss: 1.3052  [50000/50000 (100%)]\n",
      "Average training accuracy: 64.90%\n",
      "Time elapsed: 30m 23s\n",
      "\n",
      "Average test accuracy: 58.84%\n",
      "Time elapsed: 30m 31s\n",
      "\n",
      "Epoch 19:\n",
      "Loss: 0.7833  [6250/50000 (12%)]\n",
      "Loss: 1.0192  [12500/50000 (25%)]\n",
      "Loss: 0.5478  [18750/50000 (38%)]\n",
      "Loss: 1.0222  [25000/50000 (50%)]\n",
      "Loss: 0.8691  [31250/50000 (62%)]\n",
      "Loss: 1.0789  [37500/50000 (75%)]\n",
      "Loss: 0.7866  [43750/50000 (88%)]\n",
      "Loss: 0.9064  [50000/50000 (100%)]\n",
      "Average training accuracy: 65.86%\n",
      "Time elapsed: 31m 31s\n",
      "\n",
      "Average test accuracy: 58.35%\n",
      "Time elapsed: 31m 38s\n",
      "\n",
      "Epoch 20:\n",
      "Loss: 1.0513  [6250/50000 (12%)]\n",
      "Loss: 0.8418  [12500/50000 (25%)]\n",
      "Loss: 1.1996  [18750/50000 (38%)]\n",
      "Loss: 0.9905  [25000/50000 (50%)]\n",
      "Loss: 1.1122  [31250/50000 (62%)]\n",
      "Loss: 1.1641  [37500/50000 (75%)]\n",
      "Loss: 1.3021  [43750/50000 (88%)]\n",
      "Loss: 0.8613  [50000/50000 (100%)]\n",
      "Average training accuracy: 65.74%\n",
      "Time elapsed: 32m 39s\n",
      "\n",
      "Average test accuracy: 57.33%\n",
      "Time elapsed: 32m 46s\n",
      "\n"
     ]
    }
   ],
   "source": [
    "since = time.time()\n",
    "acc_vec_train=[] # average training accuracy of each epoch\n",
    "acc_vec_test=[] # average test accuracy of each epoch\n",
    "best_acc=0.0\n",
    "\n",
    "for i in range(epoch):\n",
    "    encoder.train() # set the models to train mode\n",
    "    fc_layers.train()\n",
    "    print(\"Epoch {}:\".format(i+1))\n",
    "    num_iter=0 # index of iteration in each epoch\n",
    "    epoch_acc=0 # average accuracy of epoch\n",
    "    train_acc=0 # training accuracy of this epoch\n",
    "    for image,label in train_loader:\n",
    "        num_iter+=1\n",
    "        image_n = torch.mul(image+0.25, 0.1 * noise) # add noise to original image\n",
    "        # image = Variable(image).cuda()\n",
    "        image_n = Variable(image_n).cuda()\n",
    "        label = Variable(label).cuda()\n",
    "        optimizer_2.zero_grad()\n",
    "        output = encoder(image_n)\n",
    "        output = fc_layers(output)\n",
    "        loss = criterion(output,label)\n",
    "        loss.backward()\n",
    "        optimizer_2.step()\n",
    "        \n",
    "        pred = output.data.max(1)[1] # pred is a vector of indices of row-wise max of output\n",
    "        correct = pred.eq(label.data).cpu().sum() #The number of correct predictions of this batch\n",
    "        accuracy = 100. * correct / batch_size\n",
    "        train_acc+=accuracy\n",
    "        \n",
    "        if num_iter%250==0:\n",
    "            print(\"Loss: {:.4f}  [{}/{} ({:.0f}%)]\"\n",
    "                  .format(loss.data[0],num_iter*batch_size,len(train_loader)*batch_size,num_iter/len(train_loader)*100))\n",
    "    \n",
    "    print(\"Average training accuracy: {:.2f}%\".format(train_acc/len(train_loader))) \n",
    "    acc_vec_train.append(train_acc/len(train_loader))            \n",
    "    # record loss change\n",
    "    time_elapsed = time.time() - since\n",
    "    print(\"Time elapsed: {:.0f}m {:.0f}s\\n\".format(time_elapsed // 60, time_elapsed % 60))\n",
    "    \n",
    "    # test on test dataset\n",
    "    encoder.eval() # set the models to evaluation mode\n",
    "    fc_layers.eval()\n",
    "    test_acc=0 # test acc of this epoch\n",
    "    for image,label in test_loader:\n",
    "        image_n = torch.mul(image+0.25, 0.1 * noise) # add noise to original image\n",
    "        # image = Variable(image, volatile=True).cuda()  # volatile=True is more efficient when you won’t call .backward()\n",
    "        image_n = Variable(image_n, volatile=True).cuda()\n",
    "        label = Variable(label).cuda()\n",
    "        output = encoder(image_n)\n",
    "        output = fc_layers(output)\n",
    "        loss = criterion(output,label)\n",
    "        \n",
    "        pred = output.data.max(1)[1] # pred is a vector of indices of row-wise max of output\n",
    "        correct = pred.eq(label.data).cpu().sum() #The number of correct predictions of this batch\n",
    "        accuracy = 100. * correct / batch_size\n",
    "        test_acc+=accuracy\n",
    "    epoch_test_acc=test_acc/len(test_loader)\n",
    "    if epoch_test_acc>best_acc: #update the best model\n",
    "        best_acc = epoch_test_acc\n",
    "        best_model_wts = fc_layers.state_dict()\n",
    "    print(\"Average test accuracy: {:.2f}%\".format(epoch_test_acc))   \n",
    "    acc_vec_test.append(epoch_test_acc)\n",
    "\n",
    "    time_elapsed = time.time() - since # Add the average test loss of this epoch\n",
    "    print(\"Time elapsed: {:.0f}m {:.0f}s\\n\".format(time_elapsed // 60, time_elapsed % 60))\n",
    "    "
   ]
  },
  {
   "cell_type": "markdown",
   "metadata": {},
   "source": [
    "### Plot training and test loss"
   ]
  },
  {
   "cell_type": "code",
   "execution_count": 54,
   "metadata": {},
   "outputs": [
    {
     "data": {
      "image/png": "[encoded data removed]",
      "text/plain": [
       "<matplotlib.figure.Figure at 0x7fbe6ff0c630>"
      ]
     },
     "metadata": {},
     "output_type": "display_data"
    },
    {
     "data": {
      "image/png": "[encoded data removed]",
      "text/plain": [
       "<matplotlib.figure.Figure at 0x7fbe6fd1fac8>"
      ]
     },
     "metadata": {},
     "output_type": "display_data"
    }
   ],
   "source": [
    "plt.plot(np.arange(1,epoch+1),acc_vec_train, 'b') #visualize loss change\n",
    "plt.title('Average training accuracy of each epoch')\n",
    "plt.show()\n",
    "\n",
    "plt.plot(np.arange(1,epoch+1),acc_vec_test, 'r') #visualize loss change\n",
    "plt.title('Average test accuracy of each epoch')\n",
    "plt.show()"
   ]
  },
  {
   "cell_type": "markdown",
   "metadata": {},
   "source": [
    "### Save the best model parameters"
   ]
  },
  {
   "cell_type": "code",
   "execution_count": 56,
   "metadata": {
    "collapsed": true
   },
   "outputs": [],
   "source": [
    "if not os.path.exists('./model'):\n",
    "    os.mkdir('./model')\n",
    "torch.save(best_model_wts, \"./model/deno_autoencoder_fc_best\") # save with name of the corresponding autoencoder + \"_fc\""
   ]
  }
 ],
 "metadata": {
  "kernelspec": {
   "display_name": "Python 3",
   "language": "python",
   "name": "python3"
  },
  "language_info": {
   "codemirror_mode": {
    "name": "ipython",
    "version": 3
   },
   "file_extension": ".py",
   "mimetype": "text/x-python",
   "name": "python",
   "nbconvert_exporter": "python",
   "pygments_lexer": "ipython3",
   "version": "3.5.2"
  }
 },
 "nbformat": 4,
 "nbformat_minor": 1
}
