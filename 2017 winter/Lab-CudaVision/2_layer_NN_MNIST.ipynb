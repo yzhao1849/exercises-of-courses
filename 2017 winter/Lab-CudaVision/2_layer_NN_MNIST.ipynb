{
 "cells": [
  {
   "cell_type": "markdown",
   "metadata": {},
   "source": [
    "## The softmax function"
   ]
  },
  {
   "cell_type": "code",
   "execution_count": 2,
   "metadata": {},
   "outputs": [],
   "source": [
    "import numpy as np\n",
    "def softmax(X, deriv=False): \n",
    "    if deriv==True: \n",
    "        \"\"\"\n",
    "        Here X is a output matrix, each row is one output, \n",
    "        the number of columns is the number of output neurons, \n",
    "        the number of rows is the number of outputs(or the same, inputs) in each batch\n",
    "        \"\"\"\n",
    "        return X*(1-X)  #the derivative of softmax function\n",
    "    else: \n",
    "        \"\"\"\n",
    "        Here X is a matrix, each row corresponds to values which are linear combinations of \n",
    "        one input by the synapse weights. \n",
    "        And the softmax transforms these values into range (0,1) by applying the formula\n",
    "        \"\"\"\n",
    "        exp_X=np.exp(X)\n",
    "        sum_exp_X=np.sum(exp_X, axis=1) #sum up each row to one value\n",
    "        sum_exp_X=np.expand_dims(sum_exp_X,axis=1) #expand the dimension, make it into 2D array, each row only containing 1 value\n",
    "        return exp_X/sum_exp_X\n",
    "        "
   ]
  },
  {
   "cell_type": "markdown",
   "metadata": {},
   "source": [
    "## Import MNIST dataset"
   ]
  },
  {
   "cell_type": "code",
   "execution_count": 3,
   "metadata": {},
   "outputs": [
    {
     "data": {
      "text/plain": [
       "60000"
      ]
     },
     "execution_count": 3,
     "metadata": {},
     "output_type": "execute_result"
    }
   ],
   "source": [
    "import torch\n",
    "import torchvision.transforms as transforms\n",
    "import torchvision.datasets as dsets\n",
    "train_dataset= dsets.MNIST(root='./data',train=True,transform=transforms.ToTensor(),download=True)\n",
    "test_dataset= dsets.MNIST(root='./data',train=False,transform=transforms.ToTensor(),download=True)\n",
    "len(train_dataset)"
   ]
  },
  {
   "cell_type": "code",
   "execution_count": 4,
   "metadata": {},
   "outputs": [
    {
     "name": "stdout",
     "output_type": "stream",
     "text": [
      "<class 'torchvision.datasets.mnist.MNIST'>\n"
     ]
    }
   ],
   "source": [
    "#train_dataset_np=train_dataset[0][0].numpy()\n",
    "#test_dataset_np=test_dataset.numpy()\n",
    "print(type(train_dataset))\n",
    "#print(type(train_dataset_np))"
   ]
  },
  {
   "cell_type": "markdown",
   "metadata": {},
   "source": [
    "## Training"
   ]
  },
  {
   "cell_type": "code",
   "execution_count": 15,
   "metadata": {},
   "outputs": [
    {
     "name": "stdout",
     "output_type": "stream",
     "text": [
      "The correct labels of the last training input:\n",
      "[[ 0.  0.  0.  1.  0.  0.  0.  0.  0.  0.]\n",
      " [ 0.  0.  0.  0.  0.  0.  1.  0.  0.  0.]\n",
      " [ 0.  0.  0.  0.  0.  0.  1.  0.  0.  0.]\n",
      " [ 0.  0.  1.  0.  0.  0.  0.  0.  0.  0.]\n",
      " [ 0.  1.  0.  0.  0.  0.  0.  0.  0.  0.]\n",
      " [ 0.  0.  1.  0.  0.  0.  0.  0.  0.  0.]\n",
      " [ 0.  0.  0.  0.  0.  0.  1.  0.  0.  0.]\n",
      " [ 1.  0.  0.  0.  0.  0.  0.  0.  0.  0.]\n",
      " [ 0.  0.  0.  0.  0.  0.  0.  1.  0.  0.]\n",
      " [ 0.  0.  0.  0.  0.  0.  0.  0.  1.  0.]\n",
      " [ 0.  0.  0.  0.  0.  0.  0.  0.  0.  1.]\n",
      " [ 0.  0.  1.  0.  0.  0.  0.  0.  0.  0.]\n",
      " [ 0.  0.  0.  0.  0.  0.  0.  0.  0.  1.]\n",
      " [ 0.  0.  0.  0.  0.  1.  0.  0.  0.  0.]\n",
      " [ 0.  1.  0.  0.  0.  0.  0.  0.  0.  0.]\n",
      " [ 0.  0.  0.  0.  0.  0.  0.  0.  1.  0.]\n",
      " [ 0.  0.  0.  1.  0.  0.  0.  0.  0.  0.]\n",
      " [ 0.  0.  0.  0.  0.  1.  0.  0.  0.  0.]\n",
      " [ 0.  0.  0.  0.  0.  0.  1.  0.  0.  0.]\n",
      " [ 0.  0.  0.  0.  0.  0.  0.  0.  1.  0.]]\n",
      "The last training output:\n",
      "[[  6.42510301e-05   1.76794194e-04   9.94262615e-04   9.95485590e-01\n",
      "    3.44776999e-12   3.26094880e-03   2.36839796e-08   1.81218131e-05\n",
      "    7.45349577e-09   3.66880179e-13]\n",
      " [  2.00286577e-07   3.64019315e-07   6.62561708e-04   2.02358488e-07\n",
      "    2.84066336e-07   2.20090707e-06   9.99333236e-01   1.49488466e-11\n",
      "    9.42977185e-07   7.75803622e-09]\n",
      " [  1.87969742e-02   2.04155088e-07   2.69644687e-06   8.61957374e-07\n",
      "    7.32007300e-06   3.51147625e-04   9.80839621e-01   1.13606352e-06\n",
      "    1.77226789e-08   2.07070876e-08]\n",
      " [  1.34636910e-03   8.34459894e-10   9.98653509e-01   3.18551472e-08\n",
      "    1.71790581e-13   1.49678907e-11   5.37314722e-09   7.35877660e-08\n",
      "    7.01865531e-09   3.18946006e-09]\n",
      " [  1.07069079e-06   9.90817921e-01   5.29706408e-03   2.62693846e-04\n",
      "    6.45864955e-05   3.73814486e-05   3.22335645e-05   4.70806686e-06\n",
      "    3.45338358e-03   2.89575428e-05]\n",
      " [  5.00547856e-07   4.32236509e-12   9.99999499e-01   1.79622449e-10\n",
      "    8.30610202e-16   7.22713197e-14   5.75042778e-11   4.38033662e-13\n",
      "    2.55980946e-11   1.10767951e-10]\n",
      " [  4.84919540e-06   1.91897963e-07   8.62522302e-05   6.62684071e-10\n",
      "    7.12683886e-04   9.68009334e-05   9.99098991e-01   2.13762589e-07\n",
      "    2.10346839e-09   1.40621398e-08]\n",
      " [  9.83402055e-01   3.03272903e-12   1.90391015e-08   1.61026940e-08\n",
      "    2.02426831e-13   1.65979088e-02   5.53682259e-10   1.12997004e-10\n",
      "    4.97427721e-13   1.78765771e-15]\n",
      " [  1.84660779e-05   1.55137762e-04   1.17777492e-11   1.53369952e-10\n",
      "    6.90410526e-05   1.03816282e-04   1.19568352e-08   9.99633054e-01\n",
      "    1.85093013e-05   1.96290909e-06]\n",
      " [  4.20725558e-05   2.03176382e-05   5.24661663e-07   4.54897718e-08\n",
      "    2.47571590e-04   4.12259620e-03   8.45586744e-05   1.92207563e-06\n",
      "    9.95425776e-01   5.46153144e-05]\n",
      " [  1.11221892e-07   6.47210818e-07   1.46672375e-09   1.71378336e-09\n",
      "    1.40937029e-05   1.10841446e-07   1.72607408e-06   4.34641666e-05\n",
      "    3.95876509e-06   9.99935885e-01]\n",
      " [  3.43071751e-07   2.65600289e-10   9.99998132e-01   1.20201779e-12\n",
      "    2.07886662e-08   2.36842889e-09   1.38407255e-06   3.04626772e-11\n",
      "    1.17063146e-07   1.67298858e-10]\n",
      " [  1.84693765e-05   8.08393386e-05   7.15489677e-08   7.27439105e-07\n",
      "    7.30154405e-05   2.03964005e-04   5.46380257e-06   2.20996289e-02\n",
      "    1.14446669e-04   9.77403373e-01]\n",
      " [  6.42555477e-05   3.28139583e-06   4.54139585e-06   6.23092238e-06\n",
      "    1.23453422e-07   9.99893225e-01   2.83096455e-05   1.50451705e-09\n",
      "    3.08325949e-08   7.04078212e-10]\n",
      " [  3.34812103e-08   9.98116899e-01   3.88776074e-04   2.49202388e-04\n",
      "    2.65686455e-04   5.08705770e-05   3.85680899e-06   8.43439788e-05\n",
      "    8.12783736e-04   2.75476122e-05]\n",
      " [  3.77793496e-08   1.56454860e-04   2.73650691e-07   1.11008146e-03\n",
      "    9.93843896e-07   1.36601720e-05   5.42757789e-09   3.49060829e-09\n",
      "    9.98717246e-01   1.24357642e-06]\n",
      " [  1.74985830e-08   1.39795361e-09   2.45613049e-09   9.99995184e-01\n",
      "    5.76847877e-10   3.15740651e-08   2.82179037e-12   6.09881857e-13\n",
      "    4.71198194e-06   5.04866332e-08]\n",
      " [  7.17717498e-07   1.42277624e-06   6.50667853e-12   2.42121226e-06\n",
      "    8.87441554e-07   9.99643685e-01   1.42625298e-06   4.17064728e-08\n",
      "    3.48466031e-04   9.32219781e-07]\n",
      " [  3.09465132e-03   1.14001112e-06   1.04523802e-05   1.73852920e-06\n",
      "    2.42990373e-04   1.71162052e-02   9.79515557e-01   1.66988351e-05\n",
      "    3.96653494e-09   5.62237542e-07]\n",
      " [  1.42254276e-01   1.11149528e-05   2.65408854e-03   3.12412639e-06\n",
      "    1.14568483e-06   6.68201147e-02   2.07746796e-04   3.99435262e-06\n",
      "    4.75216496e-01   3.12827898e-01]]\n"
     ]
    }
   ],
   "source": [
    "#initialization\n",
    "np.random.seed(1) #To make the process reproducible\n",
    "#syn0 = 2*np.random.random((784,10)) - 1 #synapses (weights) connecting layer0 and layer1, and initialize weights randomly with mean 0\n",
    "syn0 = np.random.normal(0,0.7,(784,10)) #\n",
    "bias=np.zeros((20,10)) #every row of the bias should be the same\n",
    "\n",
    "for i in range(0,len(train_dataset),20):\n",
    "    input_batch=train_dataset[i][0].numpy().flatten()\n",
    "\n",
    "    for j in range(i+1,i+20):\n",
    "        input_batch=np.vstack((input_batch,train_dataset[j][0].numpy().flatten()))\n",
    "    #the input batch is a 20*784 matrix, each row represents one image\n",
    "    #print(input_batch.shape) \n",
    "    \n",
    "    labels=np.zeros((20,10))\n",
    "    for j in range(0,20):\n",
    "        labels[j][train_dataset[i+j][1]]=1\n",
    "    \n",
    "    \n",
    "    l0=input_batch #layer1 gets the input\n",
    "    l1 = softmax(np.dot(l0,syn0)+bias) #layer2 gets the weighted input from l0 and cast the softmax function to it\n",
    "    \n",
    "    l1_loss=np.sum((labels-l1)**2, axis=1)/10 #mean squared error\n",
    "    \n",
    "    l1_error=1/10*2*(labels-l1)*softmax(l1,True) \n",
    "    l1_delta=np.dot(l0.T,l1_error) #gradient descent: the partial derivative of loss function with respect to each weight is added to the original weight\n",
    "    syn0+=l1_delta #update the weights\n",
    "    new_bias=bias[0,]+np.sum(l1_error,axis=0) #sum up the gradients resulting from all 20 input, and update the first row of the bias matrix\n",
    "    bias=np.tile(new_bias,(20,1)) #duplicate the first row to overwrite other rows of the bias matrix\n",
    "\n",
    "print(\"The correct labels of the last training input:\")\n",
    "print(labels)\n",
    "print(\"The last training output:\")\n",
    "print(l1)\n"
   ]
  },
  {
   "cell_type": "markdown",
   "metadata": {},
   "source": [
    "## Testing"
   ]
  },
  {
   "cell_type": "code",
   "execution_count": 16,
   "metadata": {},
   "outputs": [
    {
     "name": "stdout",
     "output_type": "stream",
     "text": [
      "The correct rate of prediction on the test data: 0.8887\n"
     ]
    }
   ],
   "source": [
    "num_corr_pred=0 #count the number of correct predictions\n",
    "\n",
    "for i in range(0,len(test_dataset)):\n",
    "    label_test=test_dataset[i][1]\n",
    "    l0_test=test_dataset[i][0].numpy().flatten()\n",
    "    l1_test=softmax(np.dot(l0_test,syn0)+bias)\n",
    "    if np.argmax(l1_test)==label_test:\n",
    "        num_corr_pred+=1\n",
    "    \n",
    "print(\"The correct rate of prediction on the test data:\", num_corr_pred/len(test_dataset))\n",
    "    "
   ]
  },
  {
   "cell_type": "code",
   "execution_count": 11,
   "metadata": {},
   "outputs": [
    {
     "name": "stdout",
     "output_type": "stream",
     "text": [
      "<class 'torchvision.datasets.mnist.MNIST'>\n",
      "<class 'tuple'>\n",
      "<class 'torch.FloatTensor'>\n",
      "[ 0.          0.          0.          0.          0.          0.          0.\n",
      "  0.          0.          0.          0.          0.          0.          0.\n",
      "  0.          0.          0.          0.          0.          0.          0.\n",
      "  0.          0.          0.          0.          0.          0.          0.\n",
      "  0.          0.          0.          0.          0.          0.          0.\n",
      "  0.          0.          0.          0.          0.          0.          0.\n",
      "  0.          0.          0.          0.          0.          0.          0.\n",
      "  0.          0.          0.          0.          0.          0.          0.\n",
      "  0.          0.          0.          0.          0.          0.          0.\n",
      "  0.          0.          0.          0.          0.          0.          0.\n",
      "  0.          0.          0.          0.          0.          0.          0.\n",
      "  0.          0.          0.          0.          0.          0.          0.\n",
      "  0.          0.          0.          0.          0.          0.          0.\n",
      "  0.          0.          0.          0.          0.          0.          0.\n",
      "  0.          0.          0.          0.          0.          0.          0.\n",
      "  0.          0.          0.          0.          0.          0.          0.\n",
      "  0.          0.          0.          0.          0.          0.          0.\n",
      "  0.          0.          0.          0.          0.          0.          0.\n",
      "  0.          0.          0.          0.          0.          0.          0.\n",
      "  0.          0.          0.          0.          0.          0.          0.\n",
      "  0.          0.          0.          0.          0.          0.          0.\n",
      "  0.          0.          0.          0.          0.          0.01176471\n",
      "  0.07058824  0.07058824  0.07058824  0.49411765  0.53333336  0.68627453\n",
      "  0.10196079  0.65098041  1.          0.96862745  0.49803922  0.          0.\n",
      "  0.          0.          0.          0.          0.          0.          0.\n",
      "  0.          0.          0.          0.11764706  0.14117648  0.36862746\n",
      "  0.60392159  0.66666669  0.99215686  0.99215686  0.99215686  0.99215686\n",
      "  0.99215686  0.88235295  0.67450982  0.99215686  0.94901961  0.7647059\n",
      "  0.25098041  0.          0.          0.          0.          0.          0.\n",
      "  0.          0.        ]\n",
      "(1, 28, 28)\n"
     ]
    },
    {
     "data": {
      "image/png": "[encoded data removed]",
      "text/plain": [
       "<matplotlib.figure.Figure at 0x10ac324e0>"
      ]
     },
     "metadata": {},
     "output_type": "display_data"
    }
   ],
   "source": [
    "print(type(train_dataset))\n",
    "print(type(train_dataset[0]))\n",
    "print(type(train_dataset[0][0]))\n",
    "print(train_dataset[0][0].numpy().flatten()[0:200])\n",
    "print(train_dataset[0][0].numpy().shape)\n",
    "import matplotlib.pyplot as plt\n",
    "plt.imshow(train_dataset[0][0].numpy().flatten().reshape((28,28))*255, cmap='gray')\n",
    "#check if the imported matrices can be converted to image\n",
    "plt.show()"
   ]
  },
  {
   "cell_type": "code",
   "execution_count": null,
   "metadata": {},
   "outputs": [],
   "source": []
  }
 ],
 "metadata": {
  "kernelspec": {
   "display_name": "Python 3",
   "language": "python",
   "name": "python3"
  },
  "language_info": {
   "codemirror_mode": {
    "name": "ipython",
    "version": 3
   },
   "file_extension": ".py",
   "mimetype": "text/x-python",
   "name": "python",
   "nbconvert_exporter": "python",
   "pygments_lexer": "ipython3",
   "version": "3.5.2"
  }
 },
 "nbformat": 4,
 "nbformat_minor": 2
}
