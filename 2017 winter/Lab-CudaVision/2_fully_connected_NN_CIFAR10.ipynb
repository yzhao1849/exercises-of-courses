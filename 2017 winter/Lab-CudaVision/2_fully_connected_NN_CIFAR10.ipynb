{
 "cells": [
  {
   "cell_type": "markdown",
   "metadata": {},
   "source": [
    "- Add regularization to your CFAR-10 model (Dropout, L1, and L2)\n",
    "    - dropout is inplemented in the model class\n",
    "    - L2 regularization is inplemented in optimizer parameter (weight_decay)\n",
    "    - L1 regularization can be inplemented by adding the term when calculating the loss in training \n",
    "- Find out how deep the model can be and still improving\n",
    "    - A model with 3 hidden layers achieve an accuracy of 51.89% in test set, \n",
    "        - num_neuron_layer=1000\n",
    "        - batch_size = 25\n",
    "        - learn_rate=0.01 \n",
    "        - final_epochs=10 \n",
    "        - valid_epochs=5 \n",
    "        - dropout_percent=0.1 \n",
    "        - l1_reg_weight=0 #lambda\n",
    "        - l2_reg_weight=0 \n",
    "        - activ_func=ReLU\n",
    "    - A model with 5 hidden layers achieve an accuracy of 50% in test set\n",
    "        - num_neuron_layer=1200\n",
    "        - batch_size = 100\n",
    "        - n_iters = 8000\n",
    "        - learning_rate = 0.1\n",
    "        - optimizer: SGD\n",
    "        - dropout :0.2 on all layers\n",
    "        - l1_reg_weight=0.0001\n",
    "        - l2_reg_weight=0.0001 \n",
    "        - activation function :RELU\n",
    "    - Couldn't train a model with similar performance for model with more layers (>=6).\n",
    "- Draw confusion matrix\n",
    "    - refer to test function\n",
    "\n",
    "- Use five different optimizers and compare their results and convergence time (SGD, Adam, Adagrad, Adadelta, RMSprop) http://pytorch.org/docs/master/optim.html?highlight=optimizer#torch.optim.Optimizer\n",
    "    - Adadelta converges fast at default, with comparable results with SGD\n",
    "    - with default learning rate, Adagrad also has comparable results with SGD. And the curve looks more smooth\n",
    "    - with default learning rate, Adam also has slightly worse results than SGD\n",
    "    - with default learning rate (0.01), the accuracy of RMSprop was very bad, the accuracy is always 10% (because it is predicting everything to only one class). After changing the learning rate to 0.001, the performance was much better, although still worse than SGD. After decreasing the learning rate to 0.0005, the result was even better, almost comparable to the result of SGD. \n",
    "\n",
    "\n",
    "- Use three different activation functions (ReLu, Tanh, Sigmoid) http://pytorch.org/docs/master/nn.html?highlight=relu#torch.nn.ReLU\n",
    "    - In the plots showing test accuracy changes along the training epochs (see below), it seems that Tanh is harder to train than relu: with epoch number=15, the accuracy of relu seems to be able to reach a plateau, but Tanh accuracy still increases in the last epochs, and the final accuracy result of the last epoch is still worse than relu. According to plots in which the accuracy of training and test are plotted together, it seems that the accuracies are comparable, which suggests no obvious overfitting"
   ]
  },
  {
   "cell_type": "markdown",
   "metadata": {},
   "source": [
    "# Accuracy results of using different activation functions\n",
    "### ReLU"
   ]
  },
  {
   "cell_type": "markdown",
   "metadata": {},
   "source": [
    "<img src=\"acc_curve_test_ReLU.png\",width=500, height=400>\n",
    "<img src=\"acc_curve_train_test_ReLU.png\",width=500, height=400>\n"
   ]
  },
  {
   "cell_type": "markdown",
   "metadata": {},
   "source": [
    "### Tanh"
   ]
  },
  {
   "cell_type": "markdown",
   "metadata": {
    "collapsed": true
   },
   "source": [
    "<img src=\"acc_curve_test_Tanh.png\",width=500, height=400>\n",
    "<img src=\"acc_curve_train_test_Tanh.png\",width=500, height=400>\n"
   ]
  },
  {
   "cell_type": "markdown",
   "metadata": {},
   "source": [
    "### Sigmoid"
   ]
  },
  {
   "cell_type": "markdown",
   "metadata": {
    "collapsed": true
   },
   "source": [
    "<img src=\"acc_curve_test_Sigmoid.png\",width=500, height=400>\n",
    "<img src=\"acc_curve_train_test_Sigmoid.png\",width=500, height=400>"
   ]
  },
  {
   "cell_type": "markdown",
   "metadata": {},
   "source": [
    "# Hyperparameters:\n",
    "### Except: number of hidden layers"
   ]
  },
  {
   "cell_type": "code",
   "execution_count": 1,
   "metadata": {
    "collapsed": true
   },
   "outputs": [],
   "source": [
    "num_neuron_layer=1000 #number of hidden neurons in each layer\n",
    "batch_size = 50 #number of samples in each batch\n",
    "learn_rate=0.01 #learning rate\n",
    "momentum=0 #optimizer momentum\n",
    "\n",
    "use_default_norm=False #use default normalization of DataLoader or not\n",
    "norm_mean=0.5 #normalization mean in DataLoader\n",
    "norm_std=1 #normalization std in DataLoader\n",
    "\n",
    "final_epochs=15 #number of training epochs used for training the final model\n",
    "valid_epochs=10 #number of training epochs used in each round of cross-validation\n",
    "dropout_percent=0.1 #percentage dropped out in DropOut regularization in model class\n",
    "l1_reg_weight=0 #weight of L1 regularization\n",
    "l2_reg_weight=0 #weight of L2 regularization\n",
    "lr_decay=0 #specific for Adagrad optimizer\n",
    "activ_func=\"ReLU\" #activation functions, can be \"ReLU\",\"Tanh\", or \"Sigmoid\"\n",
    "k = 5 #number of total cross-validations\n",
    "optim_type=\"SGD\" #type of optimizer, can be \"SGD\",\"Adam\",\"Adagrad\",\"Adadelta\",\"RMSprop\"\n",
    "\n",
    "\n",
    "# Adam seems to be much slower than SGD in runtime"
   ]
  },
  {
   "cell_type": "code",
   "execution_count": 2,
   "metadata": {},
   "outputs": [
    {
     "name": "stdout",
     "output_type": "stream",
     "text": [
      "2.7.12 (default, Nov 19 2016, 06:48:10) \n",
      "[GCC 5.4.0 20160609]\n"
     ]
    }
   ],
   "source": [
    "import sys\n",
    "print(sys.version)"
   ]
  },
  {
   "cell_type": "code",
   "execution_count": 3,
   "metadata": {},
   "outputs": [
    {
     "name": "stdout",
     "output_type": "stream",
     "text": [
      "<module 'torch' from '/usr/local/lib/python2.7/dist-packages/torch/__init__.pyc'>\n"
     ]
    }
   ],
   "source": [
    "import torch\n",
    "print(torch)"
   ]
  },
  {
   "cell_type": "code",
   "execution_count": 4,
   "metadata": {},
   "outputs": [
    {
     "name": "stdout",
     "output_type": "stream",
     "text": [
      "('Using PyTorch version:', '0.1.12_2', 'CUDA:', True)\n"
     ]
    }
   ],
   "source": [
    "import torch\n",
    "import torch.nn as nn\n",
    "import torch.nn.functional as F\n",
    "import torch.optim as optim\n",
    "from torchvision import datasets as dsets, transforms\n",
    "from torch.autograd import Variable\n",
    "\n",
    "import numpy as np\n",
    "import matplotlib.pyplot as plt #in cuda 8, need to \"export LC_ALL=en_US.UTF-8\" in locale first, or this will result in error\n",
    "\n",
    "from numpy.random import shuffle\n",
    "\n",
    "cuda = torch.cuda.is_available()\n",
    "print('Using PyTorch version:', torch.__version__, 'CUDA:', cuda)\n",
    "\n",
    "torch.manual_seed(31)\n",
    "if cuda:\n",
    "    torch.cuda.manual_seed(31)"
   ]
  },
  {
   "cell_type": "markdown",
   "metadata": {},
   "source": [
    "## 1. Load CIFAR data and make it iterable"
   ]
  },
  {
   "cell_type": "code",
   "execution_count": 5,
   "metadata": {},
   "outputs": [
    {
     "name": "stdout",
     "output_type": "stream",
     "text": [
      "Files already downloaded and verified\n",
      "Files already downloaded and verified\n"
     ]
    }
   ],
   "source": [
    "kwargs = {'num_workers': 1, 'pin_memory': True} if cuda else {}\n",
    "\n",
    "if use_default_norm==False:\n",
    "    trainset = dsets.CIFAR10('./data', train=True, download=True,\n",
    "                             transform=transforms.Compose([\n",
    "                                 transforms.ToTensor(),\n",
    "                                 transforms.Normalize((norm_mean,), (norm_std,))\n",
    "                             ]))\n",
    "    testset = dsets.CIFAR10('./data', train=False, download=True,\n",
    "                            transform=transforms.Compose([\n",
    "                                transforms.ToTensor(),\n",
    "                                transforms.Normalize((norm_mean,), (norm_std,))\n",
    "                            ]))\n",
    "    \n",
    "else: \n",
    "    trainset = dsets.CIFAR10('./data', train=True, download=True, transform=transforms.ToTensor(),) #use default normalization\n",
    "    # transforms.ToTensor: Converts a PIL Image or numpy.ndarray (H x W x C) in the range [0, 255] \n",
    "    # to a torch.FloatTensor of shape (C x H x W) in the range [0.0, 1.0]\n",
    "\n",
    "    testset = dsets.CIFAR10('./data', train=False, download=True, transform=transforms.ToTensor(),)\n",
    "    \n",
    "train_loader = torch.utils.data.DataLoader(dataset=trainset,batch_size=batch_size, shuffle=False, **kwargs) \n",
    "\"\"\"!!!need to set shuffle=False in order to do k-fold validation, \n",
    "otherwise the data will be shuffled for every epoch\"\"\"\n",
    "\n",
    "test_loader = torch.utils.data.DataLoader(dataset=testset,batch_size=batch_size, shuffle=True, **kwargs)\n"
   ]
  },
  {
   "cell_type": "markdown",
   "metadata": {},
   "source": [
    "#### Structure of data in train_loader: X_train is the pixel data, y_train is the labels"
   ]
  },
  {
   "cell_type": "code",
   "execution_count": 6,
   "metadata": {},
   "outputs": [
    {
     "name": "stdout",
     "output_type": "stream",
     "text": [
      "('X_train:', torch.Size([50, 3, 32, 32]), 'type:', 'torch.FloatTensor')\n",
      "('y_train:', torch.Size([50]), 'type:', 'torch.LongTensor')\n"
     ]
    }
   ],
   "source": [
    "for (X_train, y_train) in train_loader:\n",
    "    print('X_train:', X_train.size(), 'type:', X_train.type())\n",
    "    print('y_train:', y_train.size(), 'type:', y_train.type())\n",
    "    break"
   ]
  },
  {
   "cell_type": "markdown",
   "metadata": {},
   "source": [
    "#### Normalized images looks different from original"
   ]
  },
  {
   "cell_type": "code",
   "execution_count": 7,
   "metadata": {},
   "outputs": [
    {
     "name": "stdout",
     "output_type": "stream",
     "text": [
      "(3, 32, 32)\n",
      "(3, 32, 32)\n",
      "(3, 32, 32)\n",
      "(3, 32, 32)\n",
      "(3, 32, 32)\n",
      "(3, 32, 32)\n",
      "(3, 32, 32)\n",
      "(3, 32, 32)\n",
      "(3, 32, 32)\n",
      "(3, 32, 32)\n"
     ]
    },
    {
     "data": {
      "image/png": "[encoded data removed]",
      "text/plain": [
       "<matplotlib.figure.Figure at 0x7f83e9f73310>"
      ]
     },
     "metadata": {},
     "output_type": "display_data"
    }
   ],
   "source": [
    "pltsize=1\n",
    "plt.figure(figsize=(10*pltsize, pltsize))\n",
    "\n",
    "for i in range(10):\n",
    "    plt.subplot(1,10,i+1)\n",
    "    plt.axis('off')\n",
    "    \n",
    "    img = trainset[i][0]\n",
    "    _to_pil = transforms.ToPILImage()\n",
    "    \n",
    "    print(img.numpy().shape)\n",
    "    plt.title('Class: '+str(y_train[i]))\n",
    "\n",
    "    plt.imshow(_to_pil(img))\n",
    "plt.show()"
   ]
  },
  {
   "cell_type": "markdown",
   "metadata": {},
   "source": [
    "## 2. Create model class"
   ]
  },
  {
   "cell_type": "markdown",
   "metadata": {},
   "source": [
    "### With ReLU"
   ]
  },
  {
   "cell_type": "code",
   "execution_count": 8,
   "metadata": {
    "collapsed": true
   },
   "outputs": [],
   "source": [
    "if activ_func==\"ReLU\":\n",
    "    class NeuroNet(nn.Module):\n",
    "        def __init__(self, input_dim, output_dim):\n",
    "            super(NeuroNet, self).__init__()\n",
    "\n",
    "            self.fc1 = nn.Linear(input_dim, num_neuron_layer)\n",
    "            self.fc1_drop = nn.Dropout(dropout_percent)#Drop out regularization\n",
    "            self.fc2 = nn.Linear(num_neuron_layer, num_neuron_layer)\n",
    "            self.fc2_drop = nn.Dropout(dropout_percent)\n",
    "            self.fc3 = nn.Linear(num_neuron_layer, num_neuron_layer)\n",
    "            self.fc3_drop = nn.Dropout(dropout_percent)\n",
    "\n",
    "#             self.fc4 = nn.Linear(num_neuron_layer, num_neuron_layer)\n",
    "#             self.fc4_drop = nn.Dropout(dropout_percent)\n",
    "#             self.fc5 = nn.Linear(num_neuron_layer, num_neuron_layer)\n",
    "#             self.fc5_drop = nn.Dropout(dropout_percent)        \n",
    "    #         self.fc6 = nn.Linear(num_neuron_layer, num_neuron_layer)\n",
    "    #         self.fc6_drop = nn.Dropout(dropout_percent)\n",
    "    #         self.fc7 = nn.Linear(num_neuron_layer, num_neuron_layer)\n",
    "    #         self.fc7_drop = nn.Dropout(dropout_percent)\n",
    "    #         self.fc8 = nn.Linear(num_neuron_layer, num_neuron_layer)\n",
    "    #         self.fc8_drop = nn.Dropout(dropout_percent)\n",
    "    #         self.fc9 = nn.Linear(num_neuron_layer, num_neuron_layer)\n",
    "    #         self.fc9_drop = nn.Dropout(dropout_percent)\n",
    "    #         self.fc10 = nn.Linear(num_neuron_layer, num_neuron_layer)\n",
    "    #         self.fc10_drop = nn.Dropout(dropout_percent)\n",
    "\n",
    "            self.fc4 = nn.Linear(num_neuron_layer, output_dim)\n",
    "\n",
    "            self.relu = nn.ReLU()\n",
    "\n",
    "        def forward(self, x):\n",
    "            # The view function is meant to reshape the tensor.\n",
    "            # If there is any situation that you don't know how many rows you want\n",
    "            # but are sure of the number of columns then you can mention the row number as -1\n",
    "            x = x.view(-1, input_dim)\n",
    "            x = self.relu(self.fc1(x))\n",
    "            x = self.fc1_drop(x)\n",
    "            x = self.relu(self.fc2(x))\n",
    "            x = self.fc2_drop(x)\n",
    "            x = self.relu(self.fc3(x))\n",
    "            x = self.fc3_drop(x)\n",
    "\n",
    "#             x = self.relu(self.fc4(x))\n",
    "#             x = self.fc4_drop(x)\n",
    "#             x = self.relu(self.fc5(x))\n",
    "#             x = self.fc5_drop(x)        \n",
    "    #         x = self.relu(self.fc6(x))\n",
    "    #         x = self.fc6_drop(x)\n",
    "    #         x = self.relu(self.fc7(x))\n",
    "    #         x = self.fc7_drop(x)\n",
    "    #         x = self.relu(self.fc8(x))\n",
    "    #         x = self.fc8_drop(x)\n",
    "    #         x = self.relu(self.fc9(x))\n",
    "    #         x = self.fc9_drop(x)\n",
    "    #         x = self.relu(self.fc10(x))\n",
    "    #         x = self.fc10_drop(x)\n",
    "\n",
    "\n",
    "            return self.fc4(x)\n"
   ]
  },
  {
   "cell_type": "markdown",
   "metadata": {},
   "source": [
    "### With Tanh"
   ]
  },
  {
   "cell_type": "code",
   "execution_count": 9,
   "metadata": {
    "collapsed": true
   },
   "outputs": [],
   "source": [
    "if activ_func==\"Tanh\":\n",
    "    class NeuroNet(nn.Module):\n",
    "        def __init__(self, input_dim, output_dim):\n",
    "            super(NeuroNet, self).__init__()\n",
    "\n",
    "            self.fc1 = nn.Linear(input_dim, num_neuron_layer)\n",
    "            self.fc1_drop = nn.Dropout(dropout_percent)#Drop out regularization\n",
    "            self.fc2 = nn.Linear(num_neuron_layer, num_neuron_layer)\n",
    "            self.fc2_drop = nn.Dropout(dropout_percent)\n",
    "            self.fc3 = nn.Linear(num_neuron_layer, num_neuron_layer)\n",
    "            self.fc3_drop = nn.Dropout(dropout_percent)\n",
    "            \n",
    "#             self.fc4 = nn.Linear(num_neuron_layer, num_neuron_layer)\n",
    "#             self.fc4_drop = nn.Dropout(dropout_percent)\n",
    "#             self.fc5 = nn.Linear(num_neuron_layer, num_neuron_layer)\n",
    "#             self.fc5_drop = nn.Dropout(dropout_percent)\n",
    "\n",
    "            self.fc4 = nn.Linear(num_neuron_layer, output_dim)\n",
    "\n",
    "            self.tanh = nn.Tanh()\n",
    "\n",
    "        def forward(self, x):\n",
    "            # The view function is meant to reshape the tensor.\n",
    "            # If there is any situation that you don't know how many rows you want\n",
    "            # but are sure of the number of columns then you can mention the row number as -1\n",
    "            x = x.view(-1, input_dim)\n",
    "            x = self.tanh(self.fc1(x))\n",
    "            x = self.fc1_drop(x)\n",
    "            x = self.tanh(self.fc2(x))\n",
    "            x = self.fc2_drop(x)\n",
    "            x = self.tanh(self.fc3(x))\n",
    "            x = self.fc3_drop(x)\n",
    "#             x = self.tanh(self.fc4(x))\n",
    "#             x = self.fc4_drop(x)\n",
    "#             x = self.tanh(self.fc5(x))\n",
    "#             x = self.fc5_drop(x)\n",
    "\n",
    "\n",
    "            return self.fc4(x)\n"
   ]
  },
  {
   "cell_type": "markdown",
   "metadata": {},
   "source": [
    "### With Sigmoid"
   ]
  },
  {
   "cell_type": "code",
   "execution_count": 10,
   "metadata": {
    "collapsed": true
   },
   "outputs": [],
   "source": [
    "if activ_func==\"Sigmoid\":\n",
    "    class NeuroNet(nn.Module):\n",
    "        def __init__(self, input_dim, output_dim):\n",
    "            super(NeuroNet, self).__init__()\n",
    "\n",
    "            self.fc1 = nn.Linear(input_dim, num_neuron_layer)\n",
    "            self.fc1_drop = nn.Dropout(dropout_percent)#Drop out regularization\n",
    "            self.fc2 = nn.Linear(num_neuron_layer, num_neuron_layer)\n",
    "            self.fc2_drop = nn.Dropout(dropout_percent)\n",
    "            self.fc3 = nn.Linear(num_neuron_layer, num_neuron_layer)\n",
    "            self.fc3_drop = nn.Dropout(dropout_percent)\n",
    "            \n",
    "#             self.fc4 = nn.Linear(num_neuron_layer, num_neuron_layer)\n",
    "#             self.fc4_drop = nn.Dropout(dropout_percent)\n",
    "#             self.fc5 = nn.Linear(num_neuron_layer, num_neuron_layer)\n",
    "#             self.fc5_drop = nn.Dropout(dropout_percent)\n",
    "\n",
    "\n",
    "            self.fc4 = nn.Linear(num_neuron_layer, output_dim)\n",
    "\n",
    "            self.sigmoid = nn.Sigmoid()\n",
    "\n",
    "        def forward(self, x):\n",
    "            # The view function is meant to reshape the tensor.\n",
    "            # If there is any situation that you don't know how many rows you want\n",
    "            # but are sure of the number of columns then you can mention the row number as -1\n",
    "            x = x.view(-1, input_dim)\n",
    "            x = self.sigmoid(self.fc1(x))\n",
    "            x = self.fc1_drop(x)\n",
    "            x = self.sigmoid(self.fc2(x))\n",
    "            x = self.fc2_drop(x)\n",
    "            x = self.sigmoid(self.fc3(x))\n",
    "            x = self.fc3_drop(x)\n",
    "#             x = self.sigmoid(self.fc4(x))\n",
    "#             x = self.fc4_drop(x)\n",
    "#             x = self.sigmoid(self.fc5(x))\n",
    "#             x = self.fc5_drop(x)\n",
    "\n",
    "\n",
    "\n",
    "            return self.fc4(x)\n"
   ]
  },
  {
   "cell_type": "markdown",
   "metadata": {},
   "source": [
    "## 3. Get information about dataset, and instantiate loss class"
   ]
  },
  {
   "cell_type": "code",
   "execution_count": 11,
   "metadata": {
    "collapsed": true
   },
   "outputs": [],
   "source": [
    "(a,b,c)=trainset[0][0].numpy().shape\n",
    "input_dim = a*b*c #RGB\n",
    "CLASSES = ('plane', 'car', 'bird', 'cat', 'deer', 'dog', 'frog', 'horse', 'ship', 'truck')\n",
    "output_dim = len(CLASSES)#10 different classes\n",
    "\n",
    "\n",
    "#loss function:\n",
    "criterion = nn.CrossEntropyLoss() #CrossEntropyLoss: This criterion combines LogSoftMax and NLLLoss in one single class.\n",
    "\n",
    "if cuda: #use GPU\n",
    "    criterion = criterion.cuda()"
   ]
  },
  {
   "cell_type": "markdown",
   "metadata": {},
   "source": [
    "## 4. Learning: training, test and results printing"
   ]
  },
  {
   "cell_type": "markdown",
   "metadata": {},
   "source": [
    "### Training function"
   ]
  },
  {
   "cell_type": "code",
   "execution_count": 12,
   "metadata": {
    "collapsed": true
   },
   "outputs": [],
   "source": [
    "def train(epoch, model,optimizer,return_model=False, log_interval=100):\n",
    "    \n",
    "    model.train() #what is this for?\n",
    "    \n",
    "    for batch_idx, (data, target) in enumerate(train_loader): #get one batch in every iteration\n",
    "                \n",
    "        if cuda:\n",
    "            data, target = data.cuda(), target.cuda()\n",
    "        data, target = Variable(data), Variable(target)\n",
    "        optimizer.zero_grad() #clear previous gradients\n",
    "        output = model(data)\n",
    "        \n",
    "        loss = criterion(output, target)\n",
    "        lossv_train.append(loss.data[0]) #for plotting loss in each iteration. \n",
    "        # Never add loss directly! It's a tensor, so this will result in a memory waste\n",
    "        \n",
    "        #for plotting accuracy in each iteration\n",
    "        pred = output.data.max(1)[1] \n",
    "        correct = pred.eq(target.data).cpu().sum() #The number of correct predictions of this batch\n",
    "        accuracy = 100. * correct / batch_size #accuracy of this batch\n",
    "        accv_train.append(accuracy)\n",
    "        \n",
    "        if l1_reg_weight!=0:\n",
    "            \"\"\"L1 regularization:\"\"\"\n",
    "            L1_crit=nn.L1Loss(size_average=False) #sum up pairwise absolute loss, instead of averaging\n",
    "            for param in model.parameters(): #for each parameter tensor\n",
    "                all_0_target=torch.zeros(param.size())\n",
    "                if cuda:\n",
    "                    param,all_0_target=param.cuda(),all_0_target.cuda()\n",
    "                all_0_target=Variable(all_0_target)\n",
    "                #param=Variable(param) #param is already a Variable\n",
    "                loss+=L1_crit(param,all_0_target)*l1_reg_weight\n",
    "    \n",
    "        loss.backward() #Getting gradients w.r.t. parameters\n",
    "        optimizer.step() #Update parameters\n",
    "        \n",
    "        if batch_idx % log_interval == 0:\n",
    "            print('Train Epoch: {} [{}/{} ({:.0f}%)]\\tLoss: {:.6f}'.format(\n",
    "                epoch, batch_idx * len(data), len(train_loader.dataset),\n",
    "                100. * batch_idx / len(train_loader), loss.data[0]))\n",
    "    \n",
    "    if return_model==True:        \n",
    "        return model #Return the model after training"
   ]
  },
  {
   "cell_type": "markdown",
   "metadata": {},
   "source": [
    "### Test function"
   ]
  },
  {
   "cell_type": "code",
   "execution_count": 13,
   "metadata": {
    "collapsed": true
   },
   "outputs": [],
   "source": [
    "def test(loss_vector, accuracy_vector, model, return_conf_mat=False):\n",
    "    model.eval() #what is this for?\n",
    "    \"\"\"\n",
    "    Sets the module in evaluation mode.\n",
    "    This has any effect only on modules such as Dropout or BatchNorm.\n",
    "    \"\"\"\n",
    "    if return_conf_mat==True:\n",
    "        #The confusion matrix of test\n",
    "        conf_mat=np.zeros((len(CLASSES),len(CLASSES))) #len(CLASSES)=10\n",
    "\n",
    "    test_loss, correct = 0, 0\n",
    "        \n",
    "    for data, target in test_loader: #No enumerate(): one batch at a time, without index\n",
    "        \n",
    "        if cuda:\n",
    "            data, target = data.cuda(), target.cuda()\n",
    "        data, target = Variable(data, volatile=True), Variable(target)\n",
    "        \"\"\"Volatile is recommended for purely inference mode, when you’re sure you won’t be even calling .backward(). \n",
    "        It’s more efficient than any other autograd setting - it will use the absolute minimal amount of memory \n",
    "        to evaluate the model. volatile also determines that requires_grad is False\"\"\"\n",
    "        \n",
    "        output = model(data)\n",
    "        test_loss += criterion(output, target).data[0] #get data (Tensor) from variable, and get the first value of the Tensor\n",
    "        pred = output.data.max(1)[1] # [1]: get the index of the max output (which corresponds to max log-probability), (1) means axis=1: row-wise max\n",
    "        correct += pred.eq(target.data).cpu().sum() #The number of correct predictions: torch.eq() Computes element-wise equality\n",
    "        \n",
    "        target_array=target.data.cpu().numpy()\n",
    "        pred_array=pred.cpu().numpy()\n",
    "        #print(\"target_array.size: {}\".format(target_array.size))\n",
    "        if return_conf_mat==True:\n",
    "            for i in range(batch_size):\n",
    "                conf_mat[target_array[i],pred_array[i]]+=1 #in conf_mat: the row is the real class, the column is the predicted class\n",
    "    \n",
    "    test_loss /= len(test_loader) #Average loss among all test batches\n",
    "    loss_vector.append(test_loss)\n",
    "\n",
    "    accuracy = 100. * correct / len(test_loader.dataset) #total number of correct predictions\n",
    "    accuracy_vector.append(accuracy)\n",
    "    \n",
    "    print('\\nTest set: Average loss: {:.4f}, Accuracy: {}/{} ({:.0f}%)\\n'.format(\n",
    "        test_loss, correct, len(test_loader.dataset), accuracy))\n",
    "    \n",
    "    if return_conf_mat==True:\n",
    "        return conf_mat"
   ]
  },
  {
   "cell_type": "markdown",
   "metadata": {},
   "source": [
    "### Training and validation function: k-fold validation"
   ]
  },
  {
   "cell_type": "code",
   "execution_count": 14,
   "metadata": {
    "collapsed": true
   },
   "outputs": [],
   "source": [
    "#def train_and_valid(epochs,k,k_idx,shuffled_idx,loss_vector, accuracy_vector, log_interval=100): \n",
    "def train_and_valid(epochs,k,k_idx,shuffled_idx,loss_matrix, accuracy_matrix,optim_type,log_interval=100): \n",
    "    #one round of cross-validation\n",
    "    #training and validation together: k_idx-th round of cross-validation, with epochs training epoch in it\n",
    "    #epochs: the total number of epochs, k is the total number of validation rounds\n",
    "    #loss_matrix, accuracy_matrix: one row is one cross-validation, one column is one epoch\n",
    "    \n",
    "    #Build a new model for this round of cross-validation\n",
    "    model = NeuroNet(input_dim, output_dim) #instantiate a new model for each round of cross-validation\n",
    "    if cuda: #use GPU for model\n",
    "        model.cuda()\n",
    "    \n",
    "    #create a new optimizer for this round of cross-validation\n",
    "    if optim_type==\"SGD\":\n",
    "        optimizer = optim.SGD(model.parameters(), lr=learn_rate, momentum=momentum, weight_decay=l2_reg_weight)\n",
    "        # momentum helps accelerate SGD in the relevant direction and dampens oscillations.\n",
    "        # It does this by adding a fraction γ of the update vector of the past time step to the current update vector\n",
    "    elif optim_type==\"Adam\":\n",
    "        optimizer = optim.Adam(model.parameters(), lr=learn_rate, weight_decay=l2_reg_weight)\n",
    "    elif optim_type==\"Adagrad\":\n",
    "        optimizer = optim.Adagrad(model.parameters(), lr=learn_rate, lr_decay=lr_decay, weight_decay=l2_reg_weight)\n",
    "    elif optim_type==\"Adadelta\":\n",
    "        optimizer = optim.Adadelta(model.parameters(), lr=learn_rate, weight_decay=l2_reg_weight)\n",
    "    elif optim_type==\"RMSprop\":\n",
    "        optimizer = optim.RMSprop(model.parameters(), lr=learn_rate, momentum=momentum, weight_decay=l2_reg_weight)\n",
    "\n",
    "\n",
    "    valid_size=len(train_loader)/k #how many batches are inside a validation set\n",
    "    batch_idx_for_validation=valid_size*k_idx #will not use these data for training\n",
    "    \n",
    "    valid_batches=[] #a list to store validation batches\n",
    "    train_batches=[] #a list to store training batches\n",
    "    \n",
    "    for batch_idx, (data, target) in enumerate(train_loader): #get one batch in every iteration\n",
    "        if shuffled_idx[batch_idx]>=batch_idx_for_validation and shuffled_idx[batch_idx]<batch_idx_for_validation+valid_size:\n",
    "        #if batch_idx in this range, do not use for training\n",
    "            valid_batches.append((data, target))\n",
    "        else: train_batches.append((data, target))\n",
    "    \n",
    "    #print(\"len(valid_batches): {}\".format(len(valid_batches)))### for debugging\n",
    "    #print(\"len(train_batches): {}\".format(len(train_batches)))###\n",
    "    \n",
    "    for epoch in range(1, epochs + 1): #repeat epoch times\n",
    "        \n",
    "        #training phase\n",
    "        #models[k_index].train() #Sets the module in training mode. This has any effect only on modules such as Dropout or BatchNorm\n",
    "        model.train() #Sets the module in training mode. This has any effect only on modules such as Dropout or BatchNorm\n",
    "   \n",
    "        for batch_idx, (data, target) in enumerate(train_batches): #get one batch in every iteration\n",
    "            if cuda: #use GPU\n",
    "                data, target = data.cuda(), target.cuda()\n",
    "            data, target = Variable(data), Variable(target)\n",
    "            optimizer.zero_grad() #clear previous gradients\n",
    "            output = model(data)\n",
    "            \n",
    "            loss = criterion(output, target)\n",
    "            if l1_reg_weight!=0:\n",
    "                \"\"\"L1 regularization:\"\"\"\n",
    "                L1_crit=nn.L1Loss(size_average=False) #sum up pairwise absolute loss, instead of averaging\n",
    "                for param in model.parameters(): #for each parameter tensor\n",
    "                    all_0_target=torch.zeros(param.size())\n",
    "                    if cuda:\n",
    "                        param,all_0_target=param.cuda(),all_0_target.cuda()\n",
    "                    all_0_target=Variable(all_0_target)\n",
    "                    #param=Variable(param) #param is already a Variable\n",
    "                    loss+=L1_crit(param,all_0_target)*l1_reg_weight\n",
    "\n",
    "    \n",
    "            loss.backward() #Getting gradients w.r.t. parameters\n",
    "            optimizer.step() #Update parameters\n",
    "\n",
    "            if batch_idx % log_interval == 0:\n",
    "                print('Train Epoch: {} [{}/{} ({:.0f}%)]\\tLoss: {:.6f}'.format(\n",
    "                    epoch, batch_idx * len(data), len(train_batches)*len(data),\n",
    "                    100. * batch_idx / len(train_batches), loss.data[0]))\n",
    "\n",
    "\n",
    "        #Validation phase\n",
    "        model.eval()#Sets the module in evaluation mode. This has any effect only on modules such as Dropout or BatchNorm\n",
    "\n",
    "        valid_loss, correct = 0, 0\n",
    "\n",
    "        for (data, target) in valid_batches: #get one batch in every iteration\n",
    "            if cuda:\n",
    "                data, target = data.cuda(), target.cuda()\n",
    "            data, target = Variable(data, volatile=True), Variable(target)\n",
    "\n",
    "            output = model(data)\n",
    "            valid_loss += criterion(output, target).data[0] #get data (Tensor) from variable, and get the first value of the Tensor\n",
    "            pred = output.data.max(1)[1] # [1]: get the index of the max output (which corresponds to max log-probability), (1) means axis=1: row-wise max\n",
    "            correct += pred.eq(target.data).cpu().sum() #The number of correct predictions: torch.eq() Computes element-wise equality\n",
    "\n",
    "\n",
    "        valid_loss /= len(valid_batches) #Average loss among all test batches\n",
    "\n",
    "        accuracy = 100. * correct / (len(valid_batches)*batch_size) #total number of correct predictions\n",
    "\n",
    "        print('\\nValidation set: Average loss: {:.4f}, Accuracy: {}/{} ({:.0f}%)\\n'.format(\n",
    "            valid_loss, correct, len(valid_batches)*batch_size, accuracy))\n",
    "        \n",
    "        loss_matrix[k_idx,epoch-1]=valid_loss\n",
    "        accuracy_matrix[k_idx,epoch-1]=accuracy\n",
    "    \n",
    "    #delete the (local) model and optimizer to free some memory\n",
    "    del model\n",
    "    del optimizer"
   ]
  },
  {
   "cell_type": "markdown",
   "metadata": {},
   "source": [
    "### Train and validate the model of CIFAR: cross validation\n",
    "#### An epoch means one pass through the whole training data. In each epoch, instantiate a new model for training, and evaluate the model using validate"
   ]
  },
  {
   "cell_type": "code",
   "execution_count": 15,
   "metadata": {
    "scrolled": true
   },
   "outputs": [
    {
     "name": "stdout",
     "output_type": "stream",
     "text": [
      "1-th cross-validation: \n",
      "Train Epoch: 1 [0/40000 (0%)]\tLoss: 2.301514\n",
      "Train Epoch: 1 [5000/40000 (12%)]\tLoss: 2.301516\n",
      "Train Epoch: 1 [10000/40000 (25%)]\tLoss: 2.273556\n",
      "Train Epoch: 1 [15000/40000 (38%)]\tLoss: 2.268471\n",
      "Train Epoch: 1 [20000/40000 (50%)]\tLoss: 2.223705\n",
      "Train Epoch: 1 [25000/40000 (62%)]\tLoss: 2.218093\n",
      "Train Epoch: 1 [30000/40000 (75%)]\tLoss: 2.200589\n",
      "Train Epoch: 1 [35000/40000 (88%)]\tLoss: 2.098781\n",
      "\n",
      "Validation set: Average loss: 2.1052, Accuracy: 2284/10000 (23%)\n",
      "\n",
      "Train Epoch: 2 [0/40000 (0%)]\tLoss: 2.150282\n",
      "Train Epoch: 2 [5000/40000 (12%)]\tLoss: 2.142624\n",
      "Train Epoch: 2 [10000/40000 (25%)]\tLoss: 1.983550\n",
      "Train Epoch: 2 [15000/40000 (38%)]\tLoss: 2.047760\n",
      "Train Epoch: 2 [20000/40000 (50%)]\tLoss: 1.923854\n",
      "Train Epoch: 2 [25000/40000 (62%)]\tLoss: 1.940384\n",
      "Train Epoch: 2 [30000/40000 (75%)]\tLoss: 1.985343\n",
      "Train Epoch: 2 [35000/40000 (88%)]\tLoss: 1.864771\n",
      "\n",
      "Validation set: Average loss: 1.9132, Accuracy: 3013/10000 (30%)\n",
      "\n",
      "Train Epoch: 3 [0/40000 (0%)]\tLoss: 1.937367\n",
      "Train Epoch: 3 [5000/40000 (12%)]\tLoss: 1.965613\n",
      "Train Epoch: 3 [10000/40000 (25%)]\tLoss: 1.769202\n",
      "Train Epoch: 3 [15000/40000 (38%)]\tLoss: 1.933212\n",
      "Train Epoch: 3 [20000/40000 (50%)]\tLoss: 1.747802\n",
      "Train Epoch: 3 [25000/40000 (62%)]\tLoss: 1.838171\n",
      "Train Epoch: 3 [30000/40000 (75%)]\tLoss: 1.942968\n",
      "Train Epoch: 3 [35000/40000 (88%)]\tLoss: 1.774110\n",
      "\n",
      "Validation set: Average loss: 1.8299, Accuracy: 3366/10000 (34%)\n",
      "\n",
      "Train Epoch: 4 [0/40000 (0%)]\tLoss: 1.797924\n",
      "Train Epoch: 4 [5000/40000 (12%)]\tLoss: 1.897018\n",
      "Train Epoch: 4 [10000/40000 (25%)]\tLoss: 1.754206\n",
      "Train Epoch: 4 [15000/40000 (38%)]\tLoss: 1.841921\n",
      "Train Epoch: 4 [20000/40000 (50%)]\tLoss: 1.699821\n",
      "Train Epoch: 4 [25000/40000 (62%)]\tLoss: 1.757616\n",
      "Train Epoch: 4 [30000/40000 (75%)]\tLoss: 1.889103\n",
      "Train Epoch: 4 [35000/40000 (88%)]\tLoss: 1.651458\n",
      "\n",
      "Validation set: Average loss: 1.7614, Accuracy: 3660/10000 (37%)\n",
      "\n",
      "Train Epoch: 5 [0/40000 (0%)]\tLoss: 1.717767\n",
      "Train Epoch: 5 [5000/40000 (12%)]\tLoss: 1.826087\n",
      "Train Epoch: 5 [10000/40000 (25%)]\tLoss: 1.654322\n",
      "Train Epoch: 5 [15000/40000 (38%)]\tLoss: 1.784011\n",
      "Train Epoch: 5 [20000/40000 (50%)]\tLoss: 1.626738\n",
      "Train Epoch: 5 [25000/40000 (62%)]\tLoss: 1.642878\n",
      "Train Epoch: 5 [30000/40000 (75%)]\tLoss: 1.804365\n",
      "Train Epoch: 5 [35000/40000 (88%)]\tLoss: 1.624996\n",
      "\n",
      "Validation set: Average loss: 1.6991, Accuracy: 3893/10000 (39%)\n",
      "\n",
      "Train Epoch: 6 [0/40000 (0%)]\tLoss: 1.687089\n",
      "Train Epoch: 6 [5000/40000 (12%)]\tLoss: 1.778436\n",
      "Train Epoch: 6 [10000/40000 (25%)]\tLoss: 1.612516\n",
      "Train Epoch: 6 [15000/40000 (38%)]\tLoss: 1.696173\n",
      "Train Epoch: 6 [20000/40000 (50%)]\tLoss: 1.625766\n",
      "Train Epoch: 6 [25000/40000 (62%)]\tLoss: 1.598425\n",
      "Train Epoch: 6 [30000/40000 (75%)]\tLoss: 1.752038\n",
      "Train Epoch: 6 [35000/40000 (88%)]\tLoss: 1.544552\n",
      "\n",
      "Validation set: Average loss: 1.6552, Accuracy: 4076/10000 (41%)\n",
      "\n",
      "Train Epoch: 7 [0/40000 (0%)]\tLoss: 1.628065\n",
      "Train Epoch: 7 [5000/40000 (12%)]\tLoss: 1.736284\n",
      "Train Epoch: 7 [10000/40000 (25%)]\tLoss: 1.602734\n",
      "Train Epoch: 7 [15000/40000 (38%)]\tLoss: 1.637732\n",
      "Train Epoch: 7 [20000/40000 (50%)]\tLoss: 1.528206\n",
      "Train Epoch: 7 [25000/40000 (62%)]\tLoss: 1.517697\n",
      "Train Epoch: 7 [30000/40000 (75%)]\tLoss: 1.707093\n",
      "Train Epoch: 7 [35000/40000 (88%)]\tLoss: 1.504871\n",
      "\n",
      "Validation set: Average loss: 1.6172, Accuracy: 4218/10000 (42%)\n",
      "\n",
      "Train Epoch: 8 [0/40000 (0%)]\tLoss: 1.612198\n",
      "Train Epoch: 8 [5000/40000 (12%)]\tLoss: 1.699650\n",
      "Train Epoch: 8 [10000/40000 (25%)]\tLoss: 1.584277\n",
      "Train Epoch: 8 [15000/40000 (38%)]\tLoss: 1.536683\n",
      "Train Epoch: 8 [20000/40000 (50%)]\tLoss: 1.527731\n",
      "Train Epoch: 8 [25000/40000 (62%)]\tLoss: 1.479371\n",
      "Train Epoch: 8 [30000/40000 (75%)]\tLoss: 1.665840\n",
      "Train Epoch: 8 [35000/40000 (88%)]\tLoss: 1.437281\n",
      "\n",
      "Validation set: Average loss: 1.5874, Accuracy: 4323/10000 (43%)\n",
      "\n",
      "Train Epoch: 9 [0/40000 (0%)]\tLoss: 1.603160\n",
      "Train Epoch: 9 [5000/40000 (12%)]\tLoss: 1.623281\n",
      "Train Epoch: 9 [10000/40000 (25%)]\tLoss: 1.552016\n",
      "Train Epoch: 9 [15000/40000 (38%)]\tLoss: 1.490570\n",
      "Train Epoch: 9 [20000/40000 (50%)]\tLoss: 1.472674\n",
      "Train Epoch: 9 [25000/40000 (62%)]\tLoss: 1.504825\n",
      "Train Epoch: 9 [30000/40000 (75%)]\tLoss: 1.596305\n",
      "Train Epoch: 9 [35000/40000 (88%)]\tLoss: 1.424621\n",
      "\n",
      "Validation set: Average loss: 1.5532, Accuracy: 4434/10000 (44%)\n",
      "\n",
      "Train Epoch: 10 [0/40000 (0%)]\tLoss: 1.558338\n",
      "Train Epoch: 10 [5000/40000 (12%)]\tLoss: 1.593755\n",
      "Train Epoch: 10 [10000/40000 (25%)]\tLoss: 1.538504\n",
      "Train Epoch: 10 [15000/40000 (38%)]\tLoss: 1.439820\n",
      "Train Epoch: 10 [20000/40000 (50%)]\tLoss: 1.482831\n",
      "Train Epoch: 10 [25000/40000 (62%)]\tLoss: 1.392195\n",
      "Train Epoch: 10 [30000/40000 (75%)]\tLoss: 1.552195\n",
      "Train Epoch: 10 [35000/40000 (88%)]\tLoss: 1.399043\n",
      "\n",
      "Validation set: Average loss: 1.5282, Accuracy: 4505/10000 (45%)\n",
      "\n",
      "2-th cross-validation: \n",
      "Train Epoch: 1 [0/40000 (0%)]\tLoss: 2.299367\n",
      "Train Epoch: 1 [5000/40000 (12%)]\tLoss: 2.291277\n",
      "Train Epoch: 1 [10000/40000 (25%)]\tLoss: 2.304859\n",
      "Train Epoch: 1 [15000/40000 (38%)]\tLoss: 2.278799\n",
      "Train Epoch: 1 [20000/40000 (50%)]\tLoss: 2.230901\n",
      "Train Epoch: 1 [25000/40000 (62%)]\tLoss: 2.220452\n",
      "Train Epoch: 1 [30000/40000 (75%)]\tLoss: 2.198026\n",
      "Train Epoch: 1 [35000/40000 (88%)]\tLoss: 2.096563\n",
      "\n",
      "Validation set: Average loss: 2.1066, Accuracy: 2205/10000 (22%)\n",
      "\n",
      "Train Epoch: 2 [0/40000 (0%)]\tLoss: 2.140382\n",
      "Train Epoch: 2 [5000/40000 (12%)]\tLoss: 2.085338\n",
      "Train Epoch: 2 [10000/40000 (25%)]\tLoss: 2.021832\n",
      "Train Epoch: 2 [15000/40000 (38%)]\tLoss: 2.065942\n",
      "Train Epoch: 2 [20000/40000 (50%)]\tLoss: 1.947827\n",
      "Train Epoch: 2 [25000/40000 (62%)]\tLoss: 2.052821\n",
      "Train Epoch: 2 [30000/40000 (75%)]\tLoss: 2.084246\n",
      "Train Epoch: 2 [35000/40000 (88%)]\tLoss: 1.895107\n",
      "\n",
      "Validation set: Average loss: 1.9251, Accuracy: 3133/10000 (31%)\n",
      "\n",
      "Train Epoch: 3 [0/40000 (0%)]\tLoss: 1.936352\n",
      "Train Epoch: 3 [5000/40000 (12%)]\tLoss: 1.983247\n",
      "Train Epoch: 3 [10000/40000 (25%)]\tLoss: 1.806617\n",
      "Train Epoch: 3 [15000/40000 (38%)]\tLoss: 1.913325\n",
      "Train Epoch: 3 [20000/40000 (50%)]\tLoss: 1.843057\n",
      "Train Epoch: 3 [25000/40000 (62%)]\tLoss: 1.954135\n",
      "Train Epoch: 3 [30000/40000 (75%)]\tLoss: 2.007892\n",
      "Train Epoch: 3 [35000/40000 (88%)]\tLoss: 1.768894\n",
      "\n",
      "Validation set: Average loss: 1.8523, Accuracy: 3465/10000 (35%)\n",
      "\n",
      "Train Epoch: 4 [0/40000 (0%)]\tLoss: 1.831273\n",
      "Train Epoch: 4 [5000/40000 (12%)]\tLoss: 1.884996\n",
      "Train Epoch: 4 [10000/40000 (25%)]\tLoss: 1.753120\n",
      "Train Epoch: 4 [15000/40000 (38%)]\tLoss: 1.793142\n",
      "Train Epoch: 4 [20000/40000 (50%)]\tLoss: 1.720339\n",
      "Train Epoch: 4 [25000/40000 (62%)]\tLoss: 1.886098\n",
      "Train Epoch: 4 [30000/40000 (75%)]\tLoss: 1.944934\n",
      "Train Epoch: 4 [35000/40000 (88%)]\tLoss: 1.727439\n",
      "\n",
      "Validation set: Average loss: 1.7795, Accuracy: 3739/10000 (37%)\n",
      "\n",
      "Train Epoch: 5 [0/40000 (0%)]\tLoss: 1.747055\n",
      "Train Epoch: 5 [5000/40000 (12%)]\tLoss: 1.786956\n",
      "Train Epoch: 5 [10000/40000 (25%)]\tLoss: 1.674835\n",
      "Train Epoch: 5 [15000/40000 (38%)]\tLoss: 1.705057\n",
      "Train Epoch: 5 [20000/40000 (50%)]\tLoss: 1.677643\n",
      "Train Epoch: 5 [25000/40000 (62%)]\tLoss: 1.791434\n",
      "Train Epoch: 5 [30000/40000 (75%)]\tLoss: 1.870627\n",
      "Train Epoch: 5 [35000/40000 (88%)]\tLoss: 1.597764\n",
      "\n",
      "Validation set: Average loss: 1.7201, Accuracy: 3854/10000 (39%)\n",
      "\n",
      "Train Epoch: 6 [0/40000 (0%)]\tLoss: 1.708420\n",
      "Train Epoch: 6 [5000/40000 (12%)]\tLoss: 1.715025\n",
      "Train Epoch: 6 [10000/40000 (25%)]\tLoss: 1.665288\n",
      "Train Epoch: 6 [15000/40000 (38%)]\tLoss: 1.603233\n",
      "Train Epoch: 6 [20000/40000 (50%)]\tLoss: 1.625220\n",
      "Train Epoch: 6 [25000/40000 (62%)]\tLoss: 1.776711\n",
      "Train Epoch: 6 [30000/40000 (75%)]\tLoss: 1.821384\n",
      "Train Epoch: 6 [35000/40000 (88%)]\tLoss: 1.554684\n",
      "\n",
      "Validation set: Average loss: 1.6772, Accuracy: 3990/10000 (40%)\n",
      "\n",
      "Train Epoch: 7 [0/40000 (0%)]\tLoss: 1.678157\n",
      "Train Epoch: 7 [5000/40000 (12%)]\tLoss: 1.649382\n",
      "Train Epoch: 7 [10000/40000 (25%)]\tLoss: 1.632762\n",
      "Train Epoch: 7 [15000/40000 (38%)]\tLoss: 1.538848\n",
      "Train Epoch: 7 [20000/40000 (50%)]\tLoss: 1.568437\n",
      "Train Epoch: 7 [25000/40000 (62%)]\tLoss: 1.756634\n",
      "Train Epoch: 7 [30000/40000 (75%)]\tLoss: 1.778665\n",
      "Train Epoch: 7 [35000/40000 (88%)]\tLoss: 1.514904\n",
      "\n",
      "Validation set: Average loss: 1.6334, Accuracy: 4176/10000 (42%)\n",
      "\n",
      "Train Epoch: 8 [0/40000 (0%)]\tLoss: 1.631256\n",
      "Train Epoch: 8 [5000/40000 (12%)]\tLoss: 1.587228\n",
      "Train Epoch: 8 [10000/40000 (25%)]\tLoss: 1.634356\n",
      "Train Epoch: 8 [15000/40000 (38%)]\tLoss: 1.498992\n",
      "Train Epoch: 8 [20000/40000 (50%)]\tLoss: 1.457004\n",
      "Train Epoch: 8 [25000/40000 (62%)]\tLoss: 1.743380\n",
      "Train Epoch: 8 [30000/40000 (75%)]\tLoss: 1.763363\n"
     ]
    },
    {
     "name": "stdout",
     "output_type": "stream",
     "text": [
      "Train Epoch: 8 [35000/40000 (88%)]\tLoss: 1.451352\n",
      "\n",
      "Validation set: Average loss: 1.5957, Accuracy: 4289/10000 (43%)\n",
      "\n",
      "Train Epoch: 9 [0/40000 (0%)]\tLoss: 1.595742\n",
      "Train Epoch: 9 [5000/40000 (12%)]\tLoss: 1.569217\n",
      "Train Epoch: 9 [10000/40000 (25%)]\tLoss: 1.620726\n",
      "Train Epoch: 9 [15000/40000 (38%)]\tLoss: 1.466310\n",
      "Train Epoch: 9 [20000/40000 (50%)]\tLoss: 1.443662\n",
      "Train Epoch: 9 [25000/40000 (62%)]\tLoss: 1.649714\n",
      "Train Epoch: 9 [30000/40000 (75%)]\tLoss: 1.739838\n",
      "Train Epoch: 9 [35000/40000 (88%)]\tLoss: 1.448595\n",
      "\n",
      "Validation set: Average loss: 1.5652, Accuracy: 4432/10000 (44%)\n",
      "\n",
      "Train Epoch: 10 [0/40000 (0%)]\tLoss: 1.605021\n",
      "Train Epoch: 10 [5000/40000 (12%)]\tLoss: 1.567040\n",
      "Train Epoch: 10 [10000/40000 (25%)]\tLoss: 1.612938\n",
      "Train Epoch: 10 [15000/40000 (38%)]\tLoss: 1.409621\n",
      "Train Epoch: 10 [20000/40000 (50%)]\tLoss: 1.415893\n",
      "Train Epoch: 10 [25000/40000 (62%)]\tLoss: 1.676814\n",
      "Train Epoch: 10 [30000/40000 (75%)]\tLoss: 1.720537\n",
      "Train Epoch: 10 [35000/40000 (88%)]\tLoss: 1.430604\n",
      "\n",
      "Validation set: Average loss: 1.5427, Accuracy: 4476/10000 (45%)\n",
      "\n",
      "3-th cross-validation: \n",
      "Train Epoch: 1 [0/40000 (0%)]\tLoss: 2.305854\n",
      "Train Epoch: 1 [5000/40000 (12%)]\tLoss: 2.294165\n",
      "Train Epoch: 1 [10000/40000 (25%)]\tLoss: 2.274803\n",
      "Train Epoch: 1 [15000/40000 (38%)]\tLoss: 2.259424\n",
      "Train Epoch: 1 [20000/40000 (50%)]\tLoss: 2.282338\n",
      "Train Epoch: 1 [25000/40000 (62%)]\tLoss: 2.214874\n",
      "Train Epoch: 1 [30000/40000 (75%)]\tLoss: 2.206554\n",
      "Train Epoch: 1 [35000/40000 (88%)]\tLoss: 2.101873\n",
      "\n",
      "Validation set: Average loss: 2.1075, Accuracy: 2147/10000 (21%)\n",
      "\n",
      "Train Epoch: 2 [0/40000 (0%)]\tLoss: 2.162980\n",
      "Train Epoch: 2 [5000/40000 (12%)]\tLoss: 2.172408\n",
      "Train Epoch: 2 [10000/40000 (25%)]\tLoss: 2.102923\n",
      "Train Epoch: 2 [15000/40000 (38%)]\tLoss: 1.945273\n",
      "Train Epoch: 2 [20000/40000 (50%)]\tLoss: 2.001772\n",
      "Train Epoch: 2 [25000/40000 (62%)]\tLoss: 1.943427\n",
      "Train Epoch: 2 [30000/40000 (75%)]\tLoss: 1.963534\n",
      "Train Epoch: 2 [35000/40000 (88%)]\tLoss: 1.979684\n",
      "\n",
      "Validation set: Average loss: 1.9146, Accuracy: 3037/10000 (30%)\n",
      "\n",
      "Train Epoch: 3 [0/40000 (0%)]\tLoss: 1.924024\n",
      "Train Epoch: 3 [5000/40000 (12%)]\tLoss: 1.929373\n",
      "Train Epoch: 3 [10000/40000 (25%)]\tLoss: 2.044325\n",
      "Train Epoch: 3 [15000/40000 (38%)]\tLoss: 1.751233\n",
      "Train Epoch: 3 [20000/40000 (50%)]\tLoss: 1.836157\n",
      "Train Epoch: 3 [25000/40000 (62%)]\tLoss: 1.859823\n",
      "Train Epoch: 3 [30000/40000 (75%)]\tLoss: 1.942133\n",
      "Train Epoch: 3 [35000/40000 (88%)]\tLoss: 1.856841\n",
      "\n",
      "Validation set: Average loss: 1.8306, Accuracy: 3393/10000 (34%)\n",
      "\n",
      "Train Epoch: 4 [0/40000 (0%)]\tLoss: 1.832443\n",
      "Train Epoch: 4 [5000/40000 (12%)]\tLoss: 1.819268\n",
      "Train Epoch: 4 [10000/40000 (25%)]\tLoss: 2.023184\n",
      "Train Epoch: 4 [15000/40000 (38%)]\tLoss: 1.669551\n",
      "Train Epoch: 4 [20000/40000 (50%)]\tLoss: 1.788975\n",
      "Train Epoch: 4 [25000/40000 (62%)]\tLoss: 1.757785\n",
      "Train Epoch: 4 [30000/40000 (75%)]\tLoss: 1.916844\n",
      "Train Epoch: 4 [35000/40000 (88%)]\tLoss: 1.799369\n",
      "\n",
      "Validation set: Average loss: 1.7577, Accuracy: 3663/10000 (37%)\n",
      "\n",
      "Train Epoch: 5 [0/40000 (0%)]\tLoss: 1.725239\n",
      "Train Epoch: 5 [5000/40000 (12%)]\tLoss: 1.761954\n",
      "Train Epoch: 5 [10000/40000 (25%)]\tLoss: 1.967356\n",
      "Train Epoch: 5 [15000/40000 (38%)]\tLoss: 1.559588\n",
      "Train Epoch: 5 [20000/40000 (50%)]\tLoss: 1.723795\n",
      "Train Epoch: 5 [25000/40000 (62%)]\tLoss: 1.636721\n",
      "Train Epoch: 5 [30000/40000 (75%)]\tLoss: 1.832605\n",
      "Train Epoch: 5 [35000/40000 (88%)]\tLoss: 1.783600\n",
      "\n",
      "Validation set: Average loss: 1.6994, Accuracy: 3891/10000 (39%)\n",
      "\n",
      "Train Epoch: 6 [0/40000 (0%)]\tLoss: 1.708572\n",
      "Train Epoch: 6 [5000/40000 (12%)]\tLoss: 1.738893\n",
      "Train Epoch: 6 [10000/40000 (25%)]\tLoss: 1.913250\n",
      "Train Epoch: 6 [15000/40000 (38%)]\tLoss: 1.489594\n",
      "Train Epoch: 6 [20000/40000 (50%)]\tLoss: 1.663573\n",
      "Train Epoch: 6 [25000/40000 (62%)]\tLoss: 1.577647\n",
      "Train Epoch: 6 [30000/40000 (75%)]\tLoss: 1.798714\n",
      "Train Epoch: 6 [35000/40000 (88%)]\tLoss: 1.719916\n",
      "\n",
      "Validation set: Average loss: 1.6533, Accuracy: 4093/10000 (41%)\n",
      "\n",
      "Train Epoch: 7 [0/40000 (0%)]\tLoss: 1.671127\n",
      "Train Epoch: 7 [5000/40000 (12%)]\tLoss: 1.739298\n",
      "Train Epoch: 7 [10000/40000 (25%)]\tLoss: 1.875678\n",
      "Train Epoch: 7 [15000/40000 (38%)]\tLoss: 1.405212\n",
      "Train Epoch: 7 [20000/40000 (50%)]\tLoss: 1.629907\n",
      "Train Epoch: 7 [25000/40000 (62%)]\tLoss: 1.490159\n",
      "Train Epoch: 7 [30000/40000 (75%)]\tLoss: 1.807881\n",
      "Train Epoch: 7 [35000/40000 (88%)]\tLoss: 1.658739\n",
      "\n",
      "Validation set: Average loss: 1.6086, Accuracy: 4244/10000 (42%)\n",
      "\n",
      "Train Epoch: 8 [0/40000 (0%)]\tLoss: 1.610904\n",
      "Train Epoch: 8 [5000/40000 (12%)]\tLoss: 1.715178\n",
      "Train Epoch: 8 [10000/40000 (25%)]\tLoss: 1.803713\n",
      "Train Epoch: 8 [15000/40000 (38%)]\tLoss: 1.344494\n",
      "Train Epoch: 8 [20000/40000 (50%)]\tLoss: 1.514928\n",
      "Train Epoch: 8 [25000/40000 (62%)]\tLoss: 1.435792\n",
      "Train Epoch: 8 [30000/40000 (75%)]\tLoss: 1.728012\n",
      "Train Epoch: 8 [35000/40000 (88%)]\tLoss: 1.642512\n",
      "\n",
      "Validation set: Average loss: 1.5688, Accuracy: 4383/10000 (44%)\n",
      "\n",
      "Train Epoch: 9 [0/40000 (0%)]\tLoss: 1.580661\n",
      "Train Epoch: 9 [5000/40000 (12%)]\tLoss: 1.644380\n",
      "Train Epoch: 9 [10000/40000 (25%)]\tLoss: 1.762960\n",
      "Train Epoch: 9 [15000/40000 (38%)]\tLoss: 1.285438\n",
      "Train Epoch: 9 [20000/40000 (50%)]\tLoss: 1.421870\n",
      "Train Epoch: 9 [25000/40000 (62%)]\tLoss: 1.417868\n",
      "Train Epoch: 9 [30000/40000 (75%)]\tLoss: 1.685708\n",
      "Train Epoch: 9 [35000/40000 (88%)]\tLoss: 1.631218\n",
      "\n",
      "Validation set: Average loss: 1.5367, Accuracy: 4467/10000 (45%)\n",
      "\n",
      "Train Epoch: 10 [0/40000 (0%)]\tLoss: 1.562352\n",
      "Train Epoch: 10 [5000/40000 (12%)]\tLoss: 1.722031\n",
      "Train Epoch: 10 [10000/40000 (25%)]\tLoss: 1.742051\n",
      "Train Epoch: 10 [15000/40000 (38%)]\tLoss: 1.265484\n",
      "Train Epoch: 10 [20000/40000 (50%)]\tLoss: 1.364064\n",
      "Train Epoch: 10 [25000/40000 (62%)]\tLoss: 1.375219\n",
      "Train Epoch: 10 [30000/40000 (75%)]\tLoss: 1.603966\n",
      "Train Epoch: 10 [35000/40000 (88%)]\tLoss: 1.588494\n",
      "\n",
      "Validation set: Average loss: 1.5134, Accuracy: 4574/10000 (46%)\n",
      "\n",
      "4-th cross-validation: \n",
      "Train Epoch: 1 [0/40000 (0%)]\tLoss: 2.301126\n",
      "Train Epoch: 1 [5000/40000 (12%)]\tLoss: 2.301623\n",
      "Train Epoch: 1 [10000/40000 (25%)]\tLoss: 2.281382\n",
      "Train Epoch: 1 [15000/40000 (38%)]\tLoss: 2.279747\n",
      "Train Epoch: 1 [20000/40000 (50%)]\tLoss: 2.236246\n",
      "Train Epoch: 1 [25000/40000 (62%)]\tLoss: 2.221213\n",
      "Train Epoch: 1 [30000/40000 (75%)]\tLoss: 2.165955\n",
      "Train Epoch: 1 [35000/40000 (88%)]\tLoss: 2.124217\n",
      "\n",
      "Validation set: Average loss: 2.0973, Accuracy: 2132/10000 (21%)\n",
      "\n",
      "Train Epoch: 2 [0/40000 (0%)]\tLoss: 2.135999\n",
      "Train Epoch: 2 [5000/40000 (12%)]\tLoss: 2.118511\n",
      "Train Epoch: 2 [10000/40000 (25%)]\tLoss: 1.920539\n",
      "Train Epoch: 2 [15000/40000 (38%)]\tLoss: 2.047154\n",
      "Train Epoch: 2 [20000/40000 (50%)]\tLoss: 1.963798\n",
      "Train Epoch: 2 [25000/40000 (62%)]\tLoss: 1.930904\n",
      "Train Epoch: 2 [30000/40000 (75%)]\tLoss: 1.883660\n",
      "Train Epoch: 2 [35000/40000 (88%)]\tLoss: 1.923561\n",
      "\n",
      "Validation set: Average loss: 1.9221, Accuracy: 3152/10000 (32%)\n",
      "\n",
      "Train Epoch: 3 [0/40000 (0%)]\tLoss: 1.917378\n",
      "Train Epoch: 3 [5000/40000 (12%)]\tLoss: 2.013757\n",
      "Train Epoch: 3 [10000/40000 (25%)]\tLoss: 1.705863\n",
      "Train Epoch: 3 [15000/40000 (38%)]\tLoss: 1.896455\n",
      "Train Epoch: 3 [20000/40000 (50%)]\tLoss: 1.813921\n",
      "Train Epoch: 3 [25000/40000 (62%)]\tLoss: 1.757825\n",
      "Train Epoch: 3 [30000/40000 (75%)]\tLoss: 1.805669\n",
      "Train Epoch: 3 [35000/40000 (88%)]\tLoss: 1.849908\n",
      "\n",
      "Validation set: Average loss: 1.8404, Accuracy: 3449/10000 (34%)\n",
      "\n",
      "Train Epoch: 4 [0/40000 (0%)]\tLoss: 1.809715\n",
      "Train Epoch: 4 [5000/40000 (12%)]\tLoss: 1.911974\n",
      "Train Epoch: 4 [10000/40000 (25%)]\tLoss: 1.638711\n",
      "Train Epoch: 4 [15000/40000 (38%)]\tLoss: 1.806384\n",
      "Train Epoch: 4 [20000/40000 (50%)]\tLoss: 1.767515\n",
      "Train Epoch: 4 [25000/40000 (62%)]\tLoss: 1.673092\n",
      "Train Epoch: 4 [30000/40000 (75%)]\tLoss: 1.674597\n",
      "Train Epoch: 4 [35000/40000 (88%)]\tLoss: 1.761198\n",
      "\n",
      "Validation set: Average loss: 1.7683, Accuracy: 3718/10000 (37%)\n",
      "\n",
      "Train Epoch: 5 [0/40000 (0%)]\tLoss: 1.717455\n",
      "Train Epoch: 5 [5000/40000 (12%)]\tLoss: 1.865720\n",
      "Train Epoch: 5 [10000/40000 (25%)]\tLoss: 1.569259\n",
      "Train Epoch: 5 [15000/40000 (38%)]\tLoss: 1.730025\n",
      "Train Epoch: 5 [20000/40000 (50%)]\tLoss: 1.768900\n",
      "Train Epoch: 5 [25000/40000 (62%)]\tLoss: 1.629885\n",
      "Train Epoch: 5 [30000/40000 (75%)]\tLoss: 1.661939\n",
      "Train Epoch: 5 [35000/40000 (88%)]\tLoss: 1.748554\n",
      "\n",
      "Validation set: Average loss: 1.7121, Accuracy: 3923/10000 (39%)\n",
      "\n",
      "Train Epoch: 6 [0/40000 (0%)]\tLoss: 1.678730\n",
      "Train Epoch: 6 [5000/40000 (12%)]\tLoss: 1.810257\n",
      "Train Epoch: 6 [10000/40000 (25%)]\tLoss: 1.571029\n",
      "Train Epoch: 6 [15000/40000 (38%)]\tLoss: 1.628947\n"
     ]
    },
    {
     "name": "stdout",
     "output_type": "stream",
     "text": [
      "Train Epoch: 6 [20000/40000 (50%)]\tLoss: 1.781504\n",
      "Train Epoch: 6 [25000/40000 (62%)]\tLoss: 1.580925\n",
      "Train Epoch: 6 [30000/40000 (75%)]\tLoss: 1.578838\n",
      "Train Epoch: 6 [35000/40000 (88%)]\tLoss: 1.732542\n",
      "\n",
      "Validation set: Average loss: 1.6636, Accuracy: 4069/10000 (41%)\n",
      "\n",
      "Train Epoch: 7 [0/40000 (0%)]\tLoss: 1.638808\n",
      "Train Epoch: 7 [5000/40000 (12%)]\tLoss: 1.776540\n",
      "Train Epoch: 7 [10000/40000 (25%)]\tLoss: 1.554891\n",
      "Train Epoch: 7 [15000/40000 (38%)]\tLoss: 1.598140\n",
      "Train Epoch: 7 [20000/40000 (50%)]\tLoss: 1.745838\n",
      "Train Epoch: 7 [25000/40000 (62%)]\tLoss: 1.501300\n",
      "Train Epoch: 7 [30000/40000 (75%)]\tLoss: 1.576850\n",
      "Train Epoch: 7 [35000/40000 (88%)]\tLoss: 1.713789\n",
      "\n",
      "Validation set: Average loss: 1.6296, Accuracy: 4188/10000 (42%)\n",
      "\n",
      "Train Epoch: 8 [0/40000 (0%)]\tLoss: 1.665010\n",
      "Train Epoch: 8 [5000/40000 (12%)]\tLoss: 1.740836\n",
      "Train Epoch: 8 [10000/40000 (25%)]\tLoss: 1.520138\n",
      "Train Epoch: 8 [15000/40000 (38%)]\tLoss: 1.570323\n",
      "Train Epoch: 8 [20000/40000 (50%)]\tLoss: 1.737631\n",
      "Train Epoch: 8 [25000/40000 (62%)]\tLoss: 1.447310\n",
      "Train Epoch: 8 [30000/40000 (75%)]\tLoss: 1.552696\n",
      "Train Epoch: 8 [35000/40000 (88%)]\tLoss: 1.756483\n",
      "\n",
      "Validation set: Average loss: 1.5883, Accuracy: 4306/10000 (43%)\n",
      "\n",
      "Train Epoch: 9 [0/40000 (0%)]\tLoss: 1.601201\n",
      "Train Epoch: 9 [5000/40000 (12%)]\tLoss: 1.673659\n",
      "Train Epoch: 9 [10000/40000 (25%)]\tLoss: 1.514341\n",
      "Train Epoch: 9 [15000/40000 (38%)]\tLoss: 1.519103\n",
      "Train Epoch: 9 [20000/40000 (50%)]\tLoss: 1.723838\n",
      "Train Epoch: 9 [25000/40000 (62%)]\tLoss: 1.428461\n",
      "Train Epoch: 9 [30000/40000 (75%)]\tLoss: 1.533418\n",
      "Train Epoch: 9 [35000/40000 (88%)]\tLoss: 1.721387\n",
      "\n",
      "Validation set: Average loss: 1.5595, Accuracy: 4395/10000 (44%)\n",
      "\n",
      "Train Epoch: 10 [0/40000 (0%)]\tLoss: 1.574805\n",
      "Train Epoch: 10 [5000/40000 (12%)]\tLoss: 1.652363\n",
      "Train Epoch: 10 [10000/40000 (25%)]\tLoss: 1.461029\n",
      "Train Epoch: 10 [15000/40000 (38%)]\tLoss: 1.510062\n",
      "Train Epoch: 10 [20000/40000 (50%)]\tLoss: 1.723070\n",
      "Train Epoch: 10 [25000/40000 (62%)]\tLoss: 1.443262\n",
      "Train Epoch: 10 [30000/40000 (75%)]\tLoss: 1.491946\n",
      "Train Epoch: 10 [35000/40000 (88%)]\tLoss: 1.754724\n",
      "\n",
      "Validation set: Average loss: 1.5427, Accuracy: 4465/10000 (45%)\n",
      "\n",
      "5-th cross-validation: \n",
      "Train Epoch: 1 [0/40000 (0%)]\tLoss: 2.304188\n",
      "Train Epoch: 1 [5000/40000 (12%)]\tLoss: 2.297611\n",
      "Train Epoch: 1 [10000/40000 (25%)]\tLoss: 2.283322\n",
      "Train Epoch: 1 [15000/40000 (38%)]\tLoss: 2.250337\n",
      "Train Epoch: 1 [20000/40000 (50%)]\tLoss: 2.258542\n",
      "Train Epoch: 1 [25000/40000 (62%)]\tLoss: 2.245119\n",
      "Train Epoch: 1 [30000/40000 (75%)]\tLoss: 2.164979\n",
      "Train Epoch: 1 [35000/40000 (88%)]\tLoss: 2.165678\n",
      "\n",
      "Validation set: Average loss: 2.1125, Accuracy: 2134/10000 (21%)\n",
      "\n",
      "Train Epoch: 2 [0/40000 (0%)]\tLoss: 2.063323\n",
      "Train Epoch: 2 [5000/40000 (12%)]\tLoss: 2.066042\n",
      "Train Epoch: 2 [10000/40000 (25%)]\tLoss: 2.084808\n",
      "Train Epoch: 2 [15000/40000 (38%)]\tLoss: 1.963169\n",
      "Train Epoch: 2 [20000/40000 (50%)]\tLoss: 2.019305\n",
      "Train Epoch: 2 [25000/40000 (62%)]\tLoss: 1.951895\n",
      "Train Epoch: 2 [30000/40000 (75%)]\tLoss: 1.847844\n",
      "Train Epoch: 2 [35000/40000 (88%)]\tLoss: 2.009261\n",
      "\n",
      "Validation set: Average loss: 1.9163, Accuracy: 3039/10000 (30%)\n",
      "\n",
      "Train Epoch: 3 [0/40000 (0%)]\tLoss: 1.973201\n",
      "Train Epoch: 3 [5000/40000 (12%)]\tLoss: 1.867589\n",
      "Train Epoch: 3 [10000/40000 (25%)]\tLoss: 2.014073\n",
      "Train Epoch: 3 [15000/40000 (38%)]\tLoss: 1.786487\n",
      "Train Epoch: 3 [20000/40000 (50%)]\tLoss: 1.885421\n",
      "Train Epoch: 3 [25000/40000 (62%)]\tLoss: 1.824670\n",
      "Train Epoch: 3 [30000/40000 (75%)]\tLoss: 1.755556\n",
      "Train Epoch: 3 [35000/40000 (88%)]\tLoss: 1.943417\n",
      "\n",
      "Validation set: Average loss: 1.8386, Accuracy: 3396/10000 (34%)\n",
      "\n",
      "Train Epoch: 4 [0/40000 (0%)]\tLoss: 1.906740\n",
      "Train Epoch: 4 [5000/40000 (12%)]\tLoss: 1.792323\n",
      "Train Epoch: 4 [10000/40000 (25%)]\tLoss: 1.979216\n",
      "Train Epoch: 4 [15000/40000 (38%)]\tLoss: 1.725593\n",
      "Train Epoch: 4 [20000/40000 (50%)]\tLoss: 1.772479\n",
      "Train Epoch: 4 [25000/40000 (62%)]\tLoss: 1.714944\n",
      "Train Epoch: 4 [30000/40000 (75%)]\tLoss: 1.659308\n",
      "Train Epoch: 4 [35000/40000 (88%)]\tLoss: 1.900350\n",
      "\n",
      "Validation set: Average loss: 1.7681, Accuracy: 3701/10000 (37%)\n",
      "\n",
      "Train Epoch: 5 [0/40000 (0%)]\tLoss: 1.830483\n",
      "Train Epoch: 5 [5000/40000 (12%)]\tLoss: 1.714321\n",
      "Train Epoch: 5 [10000/40000 (25%)]\tLoss: 1.912947\n",
      "Train Epoch: 5 [15000/40000 (38%)]\tLoss: 1.623812\n",
      "Train Epoch: 5 [20000/40000 (50%)]\tLoss: 1.685352\n",
      "Train Epoch: 5 [25000/40000 (62%)]\tLoss: 1.690981\n",
      "Train Epoch: 5 [30000/40000 (75%)]\tLoss: 1.540094\n",
      "Train Epoch: 5 [35000/40000 (88%)]\tLoss: 1.829580\n",
      "\n",
      "Validation set: Average loss: 1.7111, Accuracy: 3901/10000 (39%)\n",
      "\n",
      "Train Epoch: 6 [0/40000 (0%)]\tLoss: 1.740541\n",
      "Train Epoch: 6 [5000/40000 (12%)]\tLoss: 1.664839\n",
      "Train Epoch: 6 [10000/40000 (25%)]\tLoss: 1.829445\n",
      "Train Epoch: 6 [15000/40000 (38%)]\tLoss: 1.586254\n",
      "Train Epoch: 6 [20000/40000 (50%)]\tLoss: 1.631919\n",
      "Train Epoch: 6 [25000/40000 (62%)]\tLoss: 1.628204\n",
      "Train Epoch: 6 [30000/40000 (75%)]\tLoss: 1.466885\n",
      "Train Epoch: 6 [35000/40000 (88%)]\tLoss: 1.821009\n",
      "\n",
      "Validation set: Average loss: 1.6649, Accuracy: 4056/10000 (41%)\n",
      "\n",
      "Train Epoch: 7 [0/40000 (0%)]\tLoss: 1.686465\n",
      "Train Epoch: 7 [5000/40000 (12%)]\tLoss: 1.592141\n",
      "Train Epoch: 7 [10000/40000 (25%)]\tLoss: 1.799260\n",
      "Train Epoch: 7 [15000/40000 (38%)]\tLoss: 1.579569\n",
      "Train Epoch: 7 [20000/40000 (50%)]\tLoss: 1.556278\n",
      "Train Epoch: 7 [25000/40000 (62%)]\tLoss: 1.542583\n",
      "Train Epoch: 7 [30000/40000 (75%)]\tLoss: 1.427062\n",
      "Train Epoch: 7 [35000/40000 (88%)]\tLoss: 1.737424\n",
      "\n",
      "Validation set: Average loss: 1.6215, Accuracy: 4192/10000 (42%)\n",
      "\n",
      "Train Epoch: 8 [0/40000 (0%)]\tLoss: 1.671391\n",
      "Train Epoch: 8 [5000/40000 (12%)]\tLoss: 1.534000\n",
      "Train Epoch: 8 [10000/40000 (25%)]\tLoss: 1.765654\n",
      "Train Epoch: 8 [15000/40000 (38%)]\tLoss: 1.558810\n",
      "Train Epoch: 8 [20000/40000 (50%)]\tLoss: 1.508110\n",
      "Train Epoch: 8 [25000/40000 (62%)]\tLoss: 1.496961\n",
      "Train Epoch: 8 [30000/40000 (75%)]\tLoss: 1.331357\n",
      "Train Epoch: 8 [35000/40000 (88%)]\tLoss: 1.720914\n",
      "\n",
      "Validation set: Average loss: 1.5942, Accuracy: 4305/10000 (43%)\n",
      "\n",
      "Train Epoch: 9 [0/40000 (0%)]\tLoss: 1.647027\n",
      "Train Epoch: 9 [5000/40000 (12%)]\tLoss: 1.489108\n",
      "Train Epoch: 9 [10000/40000 (25%)]\tLoss: 1.741978\n",
      "Train Epoch: 9 [15000/40000 (38%)]\tLoss: 1.598896\n",
      "Train Epoch: 9 [20000/40000 (50%)]\tLoss: 1.457417\n",
      "Train Epoch: 9 [25000/40000 (62%)]\tLoss: 1.451980\n",
      "Train Epoch: 9 [30000/40000 (75%)]\tLoss: 1.286551\n",
      "Train Epoch: 9 [35000/40000 (88%)]\tLoss: 1.672582\n",
      "\n",
      "Validation set: Average loss: 1.5553, Accuracy: 4488/10000 (45%)\n",
      "\n",
      "Train Epoch: 10 [0/40000 (0%)]\tLoss: 1.591462\n",
      "Train Epoch: 10 [5000/40000 (12%)]\tLoss: 1.409504\n",
      "Train Epoch: 10 [10000/40000 (25%)]\tLoss: 1.684239\n",
      "Train Epoch: 10 [15000/40000 (38%)]\tLoss: 1.582480\n",
      "Train Epoch: 10 [20000/40000 (50%)]\tLoss: 1.446240\n",
      "Train Epoch: 10 [25000/40000 (62%)]\tLoss: 1.406141\n",
      "Train Epoch: 10 [30000/40000 (75%)]\tLoss: 1.291406\n",
      "Train Epoch: 10 [35000/40000 (88%)]\tLoss: 1.637831\n",
      "\n",
      "Validation set: Average loss: 1.5289, Accuracy: 4614/10000 (46%)\n",
      "\n"
     ]
    }
   ],
   "source": [
    "#valid_epochs already initialized in the beginning, as one of the hyperparameters\n",
    "\n",
    "#lossv, accv = [], [] #results of validation losses, accuracies for each round of cross validation\n",
    "loss_mat=np.zeros((k,valid_epochs)) #one row is one cross-validation, one column is one epoch\n",
    "acc_mat=np.zeros((k,valid_epochs))\n",
    "\n",
    "#shuffle the batches\n",
    "shuffled_idx=np.arange(len(train_loader))\n",
    "shuffle(shuffled_idx)\n",
    "    \n",
    "for k_index in range(0, k):\n",
    "    \n",
    "    print(\"{}-th cross-validation: \".format(k_index+1))\n",
    "    #train_and_valid(valid_epochs,k,k_index,shuffled_idx,lossv,accv)\n",
    "    train_and_valid(valid_epochs,k,k_index,shuffled_idx,loss_mat,acc_mat,optim_type)\n",
    "    \n",
    "    #save the current model\n",
    "    #torch.save(model.state_dict(), \"model.th{}\".format(k_index))\n",
    "    \n",
    "    k_index+=1\n"
   ]
  },
  {
   "cell_type": "markdown",
   "metadata": {},
   "source": [
    "#### How many batches and examples in training and testing set, respectively"
   ]
  },
  {
   "cell_type": "code",
   "execution_count": 16,
   "metadata": {},
   "outputs": [
    {
     "name": "stdout",
     "output_type": "stream",
     "text": [
      "Number of batches in training set: 1000\n",
      "Number of examples in training set: 50000\n",
      "\n",
      "Number of batches in testing set: 200\n",
      "Number of examples in tesing set: 10000\n"
     ]
    }
   ],
   "source": [
    "print(\"Number of batches in training set: {}\".format(len(train_loader)))\n",
    "print(\"Number of examples in training set: {}\\n\".format(len(train_loader.dataset)))\n",
    "print(\"Number of batches in testing set: {}\".format(len(test_loader)))\n",
    "print(\"Number of examples in tesing set: {}\".format(len(test_loader.dataset)))"
   ]
  },
  {
   "cell_type": "markdown",
   "metadata": {},
   "source": [
    "#### Plot the values of validation loss and accuracy in each cross-validation"
   ]
  },
  {
   "cell_type": "code",
   "execution_count": 17,
   "metadata": {},
   "outputs": [
    {
     "name": "stdout",
     "output_type": "stream",
     "text": [
      "Final validation loss of each cross-validation: [ 1.5282483   1.54273499  1.51344062  1.54271119  1.52890416]\n",
      "Final validation accuracy of each cross-validation: [ 45.05  44.76  45.74  44.65  46.14]\n"
     ]
    }
   ],
   "source": [
    "# print(\"Final validation loss of each cross-validation: {}\".format(lossv))\n",
    "# print(\"Final validation accuracy of each cross-validation: {}\".format(accv))\n",
    "lossv_last_epoch=loss_mat[:,valid_epochs-1].flatten() # loss vector containing the validation loss of the last epoch of each cross-validation\n",
    "accv_last_epoch=acc_mat[:,valid_epochs-1].flatten() # accuracy vector containing the validation accuracy of the last epoch of each cross-validation\n",
    "print(\"Final validation loss of each cross-validation: {}\".format(lossv_last_epoch))\n",
    "print(\"Final validation accuracy of each cross-validation: {}\".format(accv_last_epoch))"
   ]
  },
  {
   "cell_type": "code",
   "execution_count": 18,
   "metadata": {},
   "outputs": [
    {
     "data": {
      "image/png": "[encoded data removed]",
      "text/plain": [
       "<matplotlib.figure.Figure at 0x7f83e85a4590>"
      ]
     },
     "metadata": {},
     "output_type": "display_data"
    },
    {
     "data": {
      "image/png": "[encoded data removed]",
      "text/plain": [
       "<matplotlib.figure.Figure at 0x7f83ea2161d0>"
      ]
     },
     "metadata": {},
     "output_type": "display_data"
    },
    {
     "name": "stdout",
     "output_type": "stream",
     "text": [
      "Average validation loss (%): 1.53120785463\n",
      "Average validation accuracy (%): 45.268\n"
     ]
    }
   ],
   "source": [
    "plt.figure(figsize=(8,5))\n",
    "plt.plot(np.arange(1,k+1), lossv_last_epoch)\n",
    "plt.title('validation loss of each cross-validation')\n",
    "\n",
    "plt.figure(figsize=(8,5))\n",
    "plt.plot(np.arange(1,k+1), accv_last_epoch)\n",
    "plt.title('validation accuracy of each cross-validation');\n",
    "plt.show()\n",
    "\n",
    "print(\"Average validation loss (%): {}\".format(sum(lossv_last_epoch)/float(len(lossv_last_epoch))))\n",
    "print(\"Average validation accuracy (%): {}\".format(sum(accv_last_epoch)/float(len(accv_last_epoch))))\n"
   ]
  },
  {
   "cell_type": "markdown",
   "metadata": {},
   "source": [
    "#### Plot the change of average cross-validation loss and accuracy with increasing epoch"
   ]
  },
  {
   "cell_type": "code",
   "execution_count": 19,
   "metadata": {},
   "outputs": [
    {
     "data": {
      "image/png": "[encoded data removed]",
      "text/plain": [
       "<matplotlib.figure.Figure at 0x7f8430ecfed0>"
      ]
     },
     "metadata": {},
     "output_type": "display_data"
    },
    {
     "data": {
      "image/png": "[encoded data removed]",
      "text/plain": [
       "<matplotlib.figure.Figure at 0x7f8430e0e810>"
      ]
     },
     "metadata": {},
     "output_type": "display_data"
    },
    {
     "name": "stdout",
     "output_type": "stream",
     "text": [
      "validation loss with increasing epoch (averaged among cross-validations):\n",
      "[ 2.10583296  1.91828151  1.83835982  1.76699166  1.70833841  1.66282043\n",
      "  1.62206347  1.58689232  1.55396551  1.53120785]\n",
      "validation accuracy with increasing epoch (averaged among cross-validations):\n",
      "[ 21.804  30.748  34.138  36.962  38.924  40.568  42.036  43.212  44.432\n",
      "  45.268]\n"
     ]
    }
   ],
   "source": [
    "avg_lossv_each_epoch=np.mean(loss_mat,axis=0) #mean of each column: mean loss among different cross-validations\n",
    "avg_accv_each_epoch=np.mean(acc_mat,axis=0) #mean of each column: mean acc among different cross-validations\n",
    "\n",
    "plt.figure(figsize=(8,5))\n",
    "plt.plot(np.arange(1,valid_epochs+1), avg_lossv_each_epoch)\n",
    "plt.title('validation loss with increasing epoch (averaged among cross-validations)')\n",
    "\n",
    "plt.figure(figsize=(8,5))\n",
    "plt.plot(np.arange(1,valid_epochs+1), avg_accv_each_epoch)\n",
    "plt.title('validation accuracy with increasing epoch (averaged among cross-validations)');\n",
    "plt.show()\n",
    "\n",
    "print(\"validation loss with increasing epoch (averaged among cross-validations):\\n{}\".format(avg_lossv_each_epoch))\n",
    "print(\"validation accuracy with increasing epoch (averaged among cross-validations):\\n{}\".format(avg_accv_each_epoch))\n"
   ]
  },
  {
   "cell_type": "markdown",
   "metadata": {},
   "source": [
    "### Train on all training data and test with test data"
   ]
  },
  {
   "cell_type": "code",
   "execution_count": 20,
   "metadata": {
    "scrolled": false
   },
   "outputs": [
    {
     "name": "stdout",
     "output_type": "stream",
     "text": [
      "Train Epoch: 1 [0/50000 (0%)]\tLoss: 2.303514\n",
      "Train Epoch: 1 [5000/50000 (10%)]\tLoss: 2.298292\n",
      "Train Epoch: 1 [10000/50000 (20%)]\tLoss: 2.285660\n",
      "Train Epoch: 1 [15000/50000 (30%)]\tLoss: 2.278569\n",
      "Train Epoch: 1 [20000/50000 (40%)]\tLoss: 2.261608\n",
      "Train Epoch: 1 [25000/50000 (50%)]\tLoss: 2.235281\n",
      "Train Epoch: 1 [30000/50000 (60%)]\tLoss: 2.161286\n",
      "Train Epoch: 1 [35000/50000 (70%)]\tLoss: 2.141232\n",
      "Train Epoch: 1 [40000/50000 (80%)]\tLoss: 2.036655\n",
      "Train Epoch: 1 [45000/50000 (90%)]\tLoss: 2.082326\n",
      "\n",
      "Test set: Average loss: 2.0462, Accuracy: 2639/10000 (26%)\n",
      "\n",
      "Train Epoch: 2 [0/50000 (0%)]\tLoss: 2.079515\n",
      "Train Epoch: 2 [5000/50000 (10%)]\tLoss: 2.018950\n",
      "Train Epoch: 2 [10000/50000 (20%)]\tLoss: 2.049362\n",
      "Train Epoch: 2 [15000/50000 (30%)]\tLoss: 1.968040\n",
      "Train Epoch: 2 [20000/50000 (40%)]\tLoss: 2.019271\n",
      "Train Epoch: 2 [25000/50000 (50%)]\tLoss: 1.940904\n",
      "Train Epoch: 2 [30000/50000 (60%)]\tLoss: 1.770373\n",
      "Train Epoch: 2 [35000/50000 (70%)]\tLoss: 1.942737\n",
      "Train Epoch: 2 [40000/50000 (80%)]\tLoss: 1.770744\n",
      "Train Epoch: 2 [45000/50000 (90%)]\tLoss: 1.761037\n",
      "\n",
      "Test set: Average loss: 1.8738, Accuracy: 3258/10000 (33%)\n",
      "\n",
      "Train Epoch: 3 [0/50000 (0%)]\tLoss: 1.857637\n",
      "Train Epoch: 3 [5000/50000 (10%)]\tLoss: 1.875703\n",
      "Train Epoch: 3 [10000/50000 (20%)]\tLoss: 1.969226\n",
      "Train Epoch: 3 [15000/50000 (30%)]\tLoss: 1.913941\n",
      "Train Epoch: 3 [20000/50000 (40%)]\tLoss: 1.946800\n",
      "Train Epoch: 3 [25000/50000 (50%)]\tLoss: 1.802534\n",
      "Train Epoch: 3 [30000/50000 (60%)]\tLoss: 1.607508\n",
      "Train Epoch: 3 [35000/50000 (70%)]\tLoss: 1.830484\n",
      "Train Epoch: 3 [40000/50000 (80%)]\tLoss: 1.670878\n",
      "Train Epoch: 3 [45000/50000 (90%)]\tLoss: 1.639519\n",
      "\n",
      "Test set: Average loss: 1.7801, Accuracy: 3671/10000 (37%)\n",
      "\n",
      "Train Epoch: 4 [0/50000 (0%)]\tLoss: 1.753607\n",
      "Train Epoch: 4 [5000/50000 (10%)]\tLoss: 1.780470\n",
      "Train Epoch: 4 [10000/50000 (20%)]\tLoss: 1.812237\n",
      "Train Epoch: 4 [15000/50000 (30%)]\tLoss: 1.836477\n",
      "Train Epoch: 4 [20000/50000 (40%)]\tLoss: 1.880967\n",
      "Train Epoch: 4 [25000/50000 (50%)]\tLoss: 1.617312\n",
      "Train Epoch: 4 [30000/50000 (60%)]\tLoss: 1.581279\n",
      "Train Epoch: 4 [35000/50000 (70%)]\tLoss: 1.762976\n",
      "Train Epoch: 4 [40000/50000 (80%)]\tLoss: 1.581778\n",
      "Train Epoch: 4 [45000/50000 (90%)]\tLoss: 1.511391\n",
      "\n",
      "Test set: Average loss: 1.6972, Accuracy: 3960/10000 (40%)\n",
      "\n",
      "Train Epoch: 5 [0/50000 (0%)]\tLoss: 1.703962\n",
      "Train Epoch: 5 [5000/50000 (10%)]\tLoss: 1.730008\n",
      "Train Epoch: 5 [10000/50000 (20%)]\tLoss: 1.743190\n",
      "Train Epoch: 5 [15000/50000 (30%)]\tLoss: 1.793913\n",
      "Train Epoch: 5 [20000/50000 (40%)]\tLoss: 1.869483\n",
      "Train Epoch: 5 [25000/50000 (50%)]\tLoss: 1.577375\n",
      "Train Epoch: 5 [30000/50000 (60%)]\tLoss: 1.531359\n",
      "Train Epoch: 5 [35000/50000 (70%)]\tLoss: 1.600420\n",
      "Train Epoch: 5 [40000/50000 (80%)]\tLoss: 1.533557\n",
      "Train Epoch: 5 [45000/50000 (90%)]\tLoss: 1.464213\n",
      "\n",
      "Test set: Average loss: 1.6318, Accuracy: 4172/10000 (42%)\n",
      "\n",
      "Train Epoch: 6 [0/50000 (0%)]\tLoss: 1.655095\n",
      "Train Epoch: 6 [5000/50000 (10%)]\tLoss: 1.710742\n",
      "Train Epoch: 6 [10000/50000 (20%)]\tLoss: 1.611517\n",
      "Train Epoch: 6 [15000/50000 (30%)]\tLoss: 1.775886\n",
      "Train Epoch: 6 [20000/50000 (40%)]\tLoss: 1.772297\n",
      "Train Epoch: 6 [25000/50000 (50%)]\tLoss: 1.514655\n",
      "Train Epoch: 6 [30000/50000 (60%)]\tLoss: 1.447880\n",
      "Train Epoch: 6 [35000/50000 (70%)]\tLoss: 1.485680\n",
      "Train Epoch: 6 [40000/50000 (80%)]\tLoss: 1.506251\n",
      "Train Epoch: 6 [45000/50000 (90%)]\tLoss: 1.386535\n",
      "\n",
      "Test set: Average loss: 1.5887, Accuracy: 4339/10000 (43%)\n",
      "\n",
      "Train Epoch: 7 [0/50000 (0%)]\tLoss: 1.676548\n",
      "Train Epoch: 7 [5000/50000 (10%)]\tLoss: 1.703535\n",
      "Train Epoch: 7 [10000/50000 (20%)]\tLoss: 1.540195\n",
      "Train Epoch: 7 [15000/50000 (30%)]\tLoss: 1.759845\n",
      "Train Epoch: 7 [20000/50000 (40%)]\tLoss: 1.735743\n",
      "Train Epoch: 7 [25000/50000 (50%)]\tLoss: 1.421841\n",
      "Train Epoch: 7 [30000/50000 (60%)]\tLoss: 1.376613\n",
      "Train Epoch: 7 [35000/50000 (70%)]\tLoss: 1.422133\n",
      "Train Epoch: 7 [40000/50000 (80%)]\tLoss: 1.442520\n",
      "Train Epoch: 7 [45000/50000 (90%)]\tLoss: 1.272700\n",
      "\n",
      "Test set: Average loss: 1.5443, Accuracy: 4498/10000 (45%)\n",
      "\n",
      "Train Epoch: 8 [0/50000 (0%)]\tLoss: 1.587846\n",
      "Train Epoch: 8 [5000/50000 (10%)]\tLoss: 1.635656\n",
      "Train Epoch: 8 [10000/50000 (20%)]\tLoss: 1.454592\n",
      "Train Epoch: 8 [15000/50000 (30%)]\tLoss: 1.687262\n",
      "Train Epoch: 8 [20000/50000 (40%)]\tLoss: 1.678324\n",
      "Train Epoch: 8 [25000/50000 (50%)]\tLoss: 1.384853\n",
      "Train Epoch: 8 [30000/50000 (60%)]\tLoss: 1.339925\n",
      "Train Epoch: 8 [35000/50000 (70%)]\tLoss: 1.379989\n",
      "Train Epoch: 8 [40000/50000 (80%)]\tLoss: 1.439329\n",
      "Train Epoch: 8 [45000/50000 (90%)]\tLoss: 1.238023\n",
      "\n",
      "Test set: Average loss: 1.5045, Accuracy: 4659/10000 (47%)\n",
      "\n",
      "Train Epoch: 9 [0/50000 (0%)]\tLoss: 1.563219\n",
      "Train Epoch: 9 [5000/50000 (10%)]\tLoss: 1.665866\n",
      "Train Epoch: 9 [10000/50000 (20%)]\tLoss: 1.418005\n",
      "Train Epoch: 9 [15000/50000 (30%)]\tLoss: 1.637916\n",
      "Train Epoch: 9 [20000/50000 (40%)]\tLoss: 1.589848\n",
      "Train Epoch: 9 [25000/50000 (50%)]\tLoss: 1.360907\n",
      "Train Epoch: 9 [30000/50000 (60%)]\tLoss: 1.301512\n",
      "Train Epoch: 9 [35000/50000 (70%)]\tLoss: 1.272547\n",
      "Train Epoch: 9 [40000/50000 (80%)]\tLoss: 1.347276\n",
      "Train Epoch: 9 [45000/50000 (90%)]\tLoss: 1.141274\n",
      "\n",
      "Test set: Average loss: 1.4735, Accuracy: 4796/10000 (48%)\n",
      "\n",
      "Train Epoch: 10 [0/50000 (0%)]\tLoss: 1.564040\n",
      "Train Epoch: 10 [5000/50000 (10%)]\tLoss: 1.529702\n",
      "Train Epoch: 10 [10000/50000 (20%)]\tLoss: 1.369635\n",
      "Train Epoch: 10 [15000/50000 (30%)]\tLoss: 1.625671\n",
      "Train Epoch: 10 [20000/50000 (40%)]\tLoss: 1.556152\n",
      "Train Epoch: 10 [25000/50000 (50%)]\tLoss: 1.314884\n",
      "Train Epoch: 10 [30000/50000 (60%)]\tLoss: 1.272833\n",
      "Train Epoch: 10 [35000/50000 (70%)]\tLoss: 1.272908\n",
      "Train Epoch: 10 [40000/50000 (80%)]\tLoss: 1.350193\n",
      "Train Epoch: 10 [45000/50000 (90%)]\tLoss: 1.141214\n",
      "\n",
      "Test set: Average loss: 1.4509, Accuracy: 4838/10000 (48%)\n",
      "\n",
      "Train Epoch: 11 [0/50000 (0%)]\tLoss: 1.467279\n",
      "Train Epoch: 11 [5000/50000 (10%)]\tLoss: 1.591586\n",
      "Train Epoch: 11 [10000/50000 (20%)]\tLoss: 1.315734\n",
      "Train Epoch: 11 [15000/50000 (30%)]\tLoss: 1.602751\n",
      "Train Epoch: 11 [20000/50000 (40%)]\tLoss: 1.534522\n",
      "Train Epoch: 11 [25000/50000 (50%)]\tLoss: 1.224187\n",
      "Train Epoch: 11 [30000/50000 (60%)]\tLoss: 1.183708\n",
      "Train Epoch: 11 [35000/50000 (70%)]\tLoss: 1.236297\n",
      "Train Epoch: 11 [40000/50000 (80%)]\tLoss: 1.322113\n",
      "Train Epoch: 11 [45000/50000 (90%)]\tLoss: 1.121584\n",
      "\n",
      "Test set: Average loss: 1.4222, Accuracy: 4955/10000 (50%)\n",
      "\n",
      "Train Epoch: 12 [0/50000 (0%)]\tLoss: 1.462784\n",
      "Train Epoch: 12 [5000/50000 (10%)]\tLoss: 1.529169\n",
      "Train Epoch: 12 [10000/50000 (20%)]\tLoss: 1.276252\n",
      "Train Epoch: 12 [15000/50000 (30%)]\tLoss: 1.536504\n",
      "Train Epoch: 12 [20000/50000 (40%)]\tLoss: 1.500118\n",
      "Train Epoch: 12 [25000/50000 (50%)]\tLoss: 1.193238\n",
      "Train Epoch: 12 [30000/50000 (60%)]\tLoss: 1.212141\n",
      "Train Epoch: 12 [35000/50000 (70%)]\tLoss: 1.195422\n",
      "Train Epoch: 12 [40000/50000 (80%)]\tLoss: 1.236173\n",
      "Train Epoch: 12 [45000/50000 (90%)]\tLoss: 1.107483\n",
      "\n",
      "Test set: Average loss: 1.4078, Accuracy: 5010/10000 (50%)\n",
      "\n",
      "Train Epoch: 13 [0/50000 (0%)]\tLoss: 1.425069\n",
      "Train Epoch: 13 [5000/50000 (10%)]\tLoss: 1.451406\n",
      "Train Epoch: 13 [10000/50000 (20%)]\tLoss: 1.246227\n",
      "Train Epoch: 13 [15000/50000 (30%)]\tLoss: 1.560311\n",
      "Train Epoch: 13 [20000/50000 (40%)]\tLoss: 1.462102\n",
      "Train Epoch: 13 [25000/50000 (50%)]\tLoss: 1.125275\n",
      "Train Epoch: 13 [30000/50000 (60%)]\tLoss: 1.199429\n",
      "Train Epoch: 13 [35000/50000 (70%)]\tLoss: 1.183380\n",
      "Train Epoch: 13 [40000/50000 (80%)]\tLoss: 1.260819\n",
      "Train Epoch: 13 [45000/50000 (90%)]\tLoss: 1.001165\n",
      "\n",
      "Test set: Average loss: 1.3899, Accuracy: 5068/10000 (51%)\n",
      "\n",
      "Train Epoch: 14 [0/50000 (0%)]\tLoss: 1.443531\n",
      "Train Epoch: 14 [5000/50000 (10%)]\tLoss: 1.454951\n",
      "Train Epoch: 14 [10000/50000 (20%)]\tLoss: 1.256953\n",
      "Train Epoch: 14 [15000/50000 (30%)]\tLoss: 1.558098\n",
      "Train Epoch: 14 [20000/50000 (40%)]\tLoss: 1.445574\n",
      "Train Epoch: 14 [25000/50000 (50%)]\tLoss: 1.126699\n",
      "Train Epoch: 14 [30000/50000 (60%)]\tLoss: 1.195937\n",
      "Train Epoch: 14 [35000/50000 (70%)]\tLoss: 1.124848\n",
      "Train Epoch: 14 [40000/50000 (80%)]\tLoss: 1.282428\n",
      "Train Epoch: 14 [45000/50000 (90%)]\tLoss: 0.978386\n",
      "\n",
      "Test set: Average loss: 1.3804, Accuracy: 5073/10000 (51%)\n",
      "\n",
      "Train Epoch: 15 [0/50000 (0%)]\tLoss: 1.416476\n",
      "Train Epoch: 15 [5000/50000 (10%)]\tLoss: 1.460727\n",
      "Train Epoch: 15 [10000/50000 (20%)]\tLoss: 1.164004\n",
      "Train Epoch: 15 [15000/50000 (30%)]\tLoss: 1.490954\n",
      "Train Epoch: 15 [20000/50000 (40%)]\tLoss: 1.430070\n",
      "Train Epoch: 15 [25000/50000 (50%)]\tLoss: 1.106844\n",
      "Train Epoch: 15 [30000/50000 (60%)]\tLoss: 1.198556\n",
      "Train Epoch: 15 [35000/50000 (70%)]\tLoss: 1.125697\n"
     ]
    },
    {
     "name": "stdout",
     "output_type": "stream",
     "text": [
      "Train Epoch: 15 [40000/50000 (80%)]\tLoss: 1.249135\n",
      "Train Epoch: 15 [45000/50000 (90%)]\tLoss: 0.990910\n",
      "\n",
      "Test set: Average loss: 1.3750, Accuracy: 5098/10000 (51%)\n",
      "\n"
     ]
    }
   ],
   "source": [
    "#final_epochs already initialized in the beginning, as one of the hyperparameters\n",
    "\n",
    "#Build a new model for training\n",
    "model = NeuroNet(input_dim, output_dim) #instantiate a new model for each round of cross-validation\n",
    "if cuda: #use GPU for model\n",
    "    model.cuda()\n",
    "\n",
    "#create a new optimizer for this round of cross-validation\n",
    "if optim_type==\"SGD\":\n",
    "    optimizer = optim.SGD(model.parameters(), lr=learn_rate, momentum=momentum, weight_decay=l2_reg_weight)\n",
    "    # momentum helps accelerate SGD in the relevant direction and dampens oscillations.\n",
    "    # It does this by adding a fraction γ of the update vector of the past time step to the current update vector\n",
    "elif optim_type==\"Adam\":\n",
    "    optimizer = optim.Adam(model.parameters(), lr=learn_rate, weight_decay=l2_reg_weight)\n",
    "elif optim_type==\"Adagrad\":\n",
    "    optimizer = optim.Adagrad(model.parameters(), lr=learn_rate, lr_decay=lr_decay, weight_decay=l2_reg_weight)\n",
    "elif optim_type==\"Adadelta\":\n",
    "    optimizer = optim.Adadelta(model.parameters(), lr=learn_rate, weight_decay=l2_reg_weight)\n",
    "elif optim_type==\"RMSprop\":\n",
    "    optimizer = optim.RMSprop(model.parameters(), lr=learn_rate, momentum=momentum, weight_decay=l2_reg_weight)\n",
    "        \n",
    "lossv_test, accv_test = [], []\n",
    "\n",
    "#vectors used for plotting all training loss along with all test loss, in order to check for overfitting\n",
    "lossv_train=[]\n",
    "accv_train=[]\n",
    "train_iter_vector=np.arange(1,final_epochs*len(train_loader)+1)\n",
    "test_iter_vector=np.arange(1*len(train_loader),final_epochs*len(train_loader)+1,len(train_loader)) #the index of training iteration when each test takes place\n",
    "\n",
    "for epoch in range(1, final_epochs + 1):\n",
    "    if epoch==final_epochs:\n",
    "        trained_model=train(epoch, model, optimizer, return_model=True) #return model in the last epoch\n",
    "    else: \n",
    "        train(epoch, model, optimizer)\n",
    "        \n",
    "    if epoch==final_epochs:\n",
    "        conf_mat=test(lossv_test, accv_test, model, return_conf_mat=True) #return confusion matrix of the last epoch\n",
    "    else: \n",
    "        test(lossv_test, accv_test, model)"
   ]
  },
  {
   "cell_type": "markdown",
   "metadata": {},
   "source": [
    "### Confusion matrix of the test result"
   ]
  },
  {
   "cell_type": "code",
   "execution_count": 21,
   "metadata": {},
   "outputs": [
    {
     "name": "stdout",
     "output_type": "stream",
     "text": [
      "       plane  car  bird  cat  deer  dog  frog  horse  ship  truck\n",
      "plane    606   41    26    8    49    6    14     21   202     27\n",
      "car       33  696     2   15    13    5    12     26   102     96\n",
      "bird     128   29   257   82   240   52    97     71    33     11\n",
      "cat       67   48    54  331   104  113   102     70    63     48\n",
      "deer      77   26    80   40   534   19    90     81    43     10\n",
      "dog       42   24    65  204   105  290    76    116    52     26\n",
      "frog      22   24    46   71   186   20   555     28    32     16\n",
      "horse     55   19    31   53   108   40    12    612    31     39\n",
      "ship      86   66     8   10    26   10     4     12   742     36\n",
      "truck     48  238     7   24    11    7    23     52   115    475\n",
      "Rows represent the true classes, columns represent the predicted classes\n"
     ]
    }
   ],
   "source": [
    "from pandas import DataFrame\n",
    "confusion_matrix=DataFrame(conf_mat,columns=CLASSES,index=CLASSES)\n",
    "print(confusion_matrix)\n",
    "print(\"Rows represent the true classes, columns represent the predicted classes\")"
   ]
  },
  {
   "cell_type": "markdown",
   "metadata": {},
   "source": [
    "#### Plot the change of test loss and accuracy in each epoch"
   ]
  },
  {
   "cell_type": "code",
   "execution_count": 22,
   "metadata": {
    "scrolled": false
   },
   "outputs": [
    {
     "data": {
      "image/png": "[encoded data removed]",
      "text/plain": [
       "<matplotlib.figure.Figure at 0x7f84316a5290>"
      ]
     },
     "metadata": {},
     "output_type": "display_data"
    },
    {
     "data": {
      "image/png": "[encoded data removed]",
      "text/plain": [
       "<matplotlib.figure.Figure at 0x7f84316e4bd0>"
      ]
     },
     "metadata": {},
     "output_type": "display_data"
    },
    {
     "name": "stdout",
     "output_type": "stream",
     "text": [
      "Test losses (%): [2.0461699771881103, 1.8738344925642014, 1.7801019716262818, 1.697176274061203, 1.6318450832366944, 1.5886614030599595, 1.5443184924125672, 1.5045115375518798, 1.4734505903720856, 1.4508978575468063, 1.4222441533207892, 1.4077784469723702, 1.389899332523346, 1.380394670367241, 1.3749948081374168]\n",
      "Test accuracies (%): [26.39, 32.58, 36.71, 39.6, 41.72, 43.39, 44.98, 46.59, 47.96, 48.38, 49.55, 50.1, 50.68, 50.73, 50.98]\n"
     ]
    }
   ],
   "source": [
    "plt.figure(figsize=(8,5))\n",
    "plt.plot(np.arange(1,final_epochs+1), lossv_test)\n",
    "plt.title('test loss')\n",
    "\n",
    "plt.figure(figsize=(8,5))\n",
    "plt.plot(np.arange(1,final_epochs+1), accv_test)\n",
    "plt.title('test accuracy');\n",
    "plt.show()\n",
    "\n",
    "print(\"Test losses (%): {}\".format(lossv_test))\n",
    "print(\"Test accuracies (%): {}\".format(accv_test))"
   ]
  },
  {
   "cell_type": "markdown",
   "metadata": {},
   "source": [
    "#### Calculate convergence time: with a predefined arbitrary threshold"
   ]
  },
  {
   "cell_type": "code",
   "execution_count": 23,
   "metadata": {},
   "outputs": [
    {
     "name": "stdout",
     "output_type": "stream",
     "text": [
      "The convergence time is 10 training epochs\n"
     ]
    }
   ],
   "source": [
    "\"\"\"\n",
    "Relative change of accuracy: the change of accuracy between 2 neighboring training epochs \n",
    "divided by the value of accuracy of the first training epoch, and define 2 criteria for convergence:\n",
    "1. use 0.015 as the threshold, once this relative change of accuracy is below this threshold, \n",
    "then regard this as a convergence;\n",
    "2. The std of one change value and the one before and the one after it should be lower than \n",
    "an arbitrary threshold: 0.01\n",
    "--> which mean this relative change is both small enough and also the relative changes are quite stable after it\n",
    "\"\"\"\n",
    "[31.92, 39.44, 42.8, 45.36, 46.73, 47.84, 49.21, 49.99, 50.81, 51.16, 52.15, 52.98, 53.57, 53.07, 53.5]\n",
    "acc_relative_change=[]\n",
    "for i in range(len(accv_test)-1):\n",
    "    acc_relative_change.append((accv_test[i+1]-accv_test[i])/accv_test[i]) #relative change of accuracy\n",
    "for i in range(0,len(acc_relative_change)-3):\n",
    "    consec_3_changes=np.array([acc_relative_change[i],acc_relative_change[i+1],acc_relative_change[i+2]])\n",
    "    #print(np.std(consec_3_changes))\n",
    "    if np.std(consec_3_changes)<0.01 and acc_relative_change[i]<0.015:\n",
    "        print(\"The convergence time is {} training epochs\".format(i+2)) #because i starts from 0\n",
    "        break\n",
    "    \n",
    "\n"
   ]
  },
  {
   "cell_type": "markdown",
   "metadata": {},
   "source": [
    "#### Plot training loss of all iterations, along with corresponding test loss\n",
    "For checking if there is overfitting"
   ]
  },
  {
   "cell_type": "code",
   "execution_count": 24,
   "metadata": {},
   "outputs": [
    {
     "data": {
      "image/png": "[encoded data removed]",
      "text/plain": [
       "<matplotlib.figure.Figure at 0x7f8430d57f10>"
      ]
     },
     "metadata": {},
     "output_type": "display_data"
    },
    {
     "data": {
      "image/png": "[encoded data removed]",
      "text/plain": [
       "<matplotlib.figure.Figure at 0x7f84316b4090>"
      ]
     },
     "metadata": {},
     "output_type": "display_data"
    }
   ],
   "source": [
    "plt.figure(figsize=(8,5))\n",
    "\n",
    "plt.plot(train_iter_vector, lossv_train, c='b',label=\"training\")\n",
    "plt.plot(test_iter_vector, lossv_test, c='r',label=\"test average\")\n",
    "\n",
    "axes = plt.gca()\n",
    "axes.set_ylim([0,5])\n",
    "\n",
    "plt.title('{}\\nLoss in each training iteration along with corresponding average loss in test'.format(optim_type));\n",
    "plt.xlabel('training iterations')\n",
    "plt.ylabel('loss')\n",
    "plt.legend()\n",
    "\n",
    "plt.figure(figsize=(8,5))\n",
    "\n",
    "plt.plot(train_iter_vector, accv_train, c='b',label=\"training\")\n",
    "plt.plot(test_iter_vector, accv_test, c='r',label=\"test average\")\n",
    "\n",
    "plt.title('{}\\nAccuracy in each training iteration along with corresponding average loss in test'.format(optim_type));\n",
    "plt.xlabel('training iterations')\n",
    "plt.ylabel('accuracy')\n",
    "plt.legend()\n",
    "\n",
    "plt.show()\n"
   ]
  },
  {
   "cell_type": "markdown",
   "metadata": {},
   "source": [
    "#### Save model"
   ]
  },
  {
   "cell_type": "code",
   "execution_count": 25,
   "metadata": {
    "collapsed": true
   },
   "outputs": [],
   "source": [
    "# #save the final model: after adjusting hyperparameters and doing cross-validation to choose the best combination of hyperparameters\n",
    "# torch.save(trained_model.state_dict(), \"model.final_1000_3_layer\")\n",
    "\n",
    "# del model\n",
    "# del optimizer"
   ]
  },
  {
   "cell_type": "markdown",
   "metadata": {},
   "source": [
    "#### Load saved models\n",
    "And print all weights and biases of the model"
   ]
  },
  {
   "cell_type": "code",
   "execution_count": 26,
   "metadata": {
    "collapsed": true,
    "scrolled": true
   },
   "outputs": [],
   "source": [
    "# # the_model_0 = NeuroNet(input_dim, output_dim) \n",
    "# # the_model_0.load_state_dict(torch.load(\"model.th0\")) \n",
    "# print(the_model_0)\n",
    "# for param in the_model_0.parameters():\n",
    "#     print(param.data)"
   ]
  }
 ],
 "metadata": {
  "kernelspec": {
   "display_name": "Python 3",
   "language": "python",
   "name": "python3"
  },
  "language_info": {
   "codemirror_mode": {
    "name": "ipython",
    "version": 3
   },
   "file_extension": ".py",
   "mimetype": "text/x-python",
   "name": "python",
   "nbconvert_exporter": "python",
   "pygments_lexer": "ipython3",
   "version": "3.5.2"
  }
 },
 "nbformat": 4,
 "nbformat_minor": 2
}
